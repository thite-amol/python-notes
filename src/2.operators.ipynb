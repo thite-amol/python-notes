{
 "cells": [
  {
   "cell_type": "code",
   "execution_count": null,
   "id": "1453529b-a5bb-4ffa-bf03-0e62b1a11a79",
   "metadata": {},
   "outputs": [],
   "source": []
  },
  {
   "cell_type": "code",
   "execution_count": 1,
   "id": "ee3b3681-d1c7-4486-905a-fd305bb15f60",
   "metadata": {},
   "outputs": [
    {
     "data": {
      "text/plain": [
       "True"
      ]
     },
     "execution_count": 1,
     "metadata": {},
     "output_type": "execute_result"
    }
   ],
   "source": [
    "10<20<30"
   ]
  },
  {
   "cell_type": "code",
   "execution_count": 2,
   "id": "ed2a5ed5-b906-41f5-bad8-f1c595f1ae6e",
   "metadata": {},
   "outputs": [
    {
     "data": {
      "text/plain": [
       "20"
      ]
     },
     "execution_count": 2,
     "metadata": {},
     "output_type": "execute_result"
    }
   ],
   "source": [
    "10 and 20"
   ]
  },
  {
   "cell_type": "markdown",
   "id": "ef6f05ec-ae60-431c-adb2-9d83022d2ee5",
   "metadata": {},
   "source": [
    "### x and y\n",
    "\n",
    "**if x evaluates true then y else x**\n"
   ]
  },
  {
   "cell_type": "code",
   "execution_count": 8,
   "id": "f4fc43c0-fb9e-4aea-baeb-1b2372b9e69b",
   "metadata": {},
   "outputs": [
    {
     "data": {
      "text/plain": [
       "0"
      ]
     },
     "execution_count": 8,
     "metadata": {},
     "output_type": "execute_result"
    }
   ],
   "source": [
    "0 and 20"
   ]
  },
  {
   "cell_type": "code",
   "execution_count": 7,
   "id": "277f72ca-36d0-4f48-91ad-bab061004676",
   "metadata": {},
   "outputs": [
    {
     "data": {
      "text/plain": [
       "10"
      ]
     },
     "execution_count": 7,
     "metadata": {},
     "output_type": "execute_result"
    }
   ],
   "source": [
    "10 or 20"
   ]
  },
  {
   "cell_type": "markdown",
   "id": "42fe27e0-0b19-4263-92d2-ffff1405f2ec",
   "metadata": {},
   "source": [
    "### x or y\n",
    "\n",
    "**if x evaluates true then x else y**\n"
   ]
  },
  {
   "cell_type": "code",
   "execution_count": 5,
   "id": "78b91d1e-f784-47e8-b821-83150f48421a",
   "metadata": {},
   "outputs": [
    {
     "data": {
      "text/plain": [
       "True"
      ]
     },
     "execution_count": 5,
     "metadata": {},
     "output_type": "execute_result"
    }
   ],
   "source": [
    "10==10.0"
   ]
  },
  {
   "cell_type": "code",
   "execution_count": 6,
   "id": "8cce092b-6fbf-428a-a039-4f5e0b77a5e0",
   "metadata": {},
   "outputs": [
    {
     "data": {
      "text/plain": [
       "False"
      ]
     },
     "execution_count": 6,
     "metadata": {},
     "output_type": "execute_result"
    }
   ],
   "source": [
    "10==\"10\""
   ]
  },
  {
   "cell_type": "code",
   "execution_count": 9,
   "id": "25ac4fbb-8465-4084-84f6-45d84cf27c38",
   "metadata": {},
   "outputs": [
    {
     "data": {
      "text/plain": [
       "True"
      ]
     },
     "execution_count": 9,
     "metadata": {},
     "output_type": "execute_result"
    }
   ],
   "source": [
    "not False"
   ]
  },
  {
   "cell_type": "code",
   "execution_count": 10,
   "id": "890e7a65-63e6-4719-bc03-ae2d87e956e1",
   "metadata": {},
   "outputs": [
    {
     "data": {
      "text/plain": [
       "True"
      ]
     },
     "execution_count": 10,
     "metadata": {},
     "output_type": "execute_result"
    }
   ],
   "source": [
    "not ''"
   ]
  },
  {
   "cell_type": "code",
   "execution_count": 11,
   "id": "f68a9e61-1082-4725-ba9c-c85f78dc3332",
   "metadata": {},
   "outputs": [
    {
     "data": {
      "text/plain": [
       "10"
      ]
     },
     "execution_count": 11,
     "metadata": {},
     "output_type": "execute_result"
    }
   ],
   "source": [
    "10 or 10/0"
   ]
  },
  {
   "cell_type": "code",
   "execution_count": 12,
   "id": "93a2e5d6-d7e6-40bc-953a-6a049d0cbac5",
   "metadata": {},
   "outputs": [
    {
     "ename": "ZeroDivisionError",
     "evalue": "division by zero",
     "output_type": "error",
     "traceback": [
      "\u001b[1;31m---------------------------------------------------------------------------\u001b[0m",
      "\u001b[1;31mZeroDivisionError\u001b[0m                         Traceback (most recent call last)",
      "Cell \u001b[1;32mIn[12], line 1\u001b[0m\n\u001b[1;32m----> 1\u001b[0m \u001b[38;5;241m10\u001b[39m \u001b[38;5;129;01mand\u001b[39;00m \u001b[38;5;241;43m10\u001b[39;49m\u001b[38;5;241;43m/\u001b[39;49m\u001b[38;5;241;43m0\u001b[39;49m\n",
      "\u001b[1;31mZeroDivisionError\u001b[0m: division by zero"
     ]
    }
   ],
   "source": [
    "10 and 10/0"
   ]
  },
  {
   "cell_type": "markdown",
   "id": "c0a1e853-0000-44f5-bf1e-ac0981f07c36",
   "metadata": {},
   "source": [
    "### Bitwise operator for bool and int only\n",
    "* & and -> if both bit are 1 then 1 else 0 \n",
    "* | or -> either one bit should 1\n",
    "* ^ xor -> if both bits are different then 1 else 0\n",
    "* ~ not -> 1 become 0 and o become 1\n",
    "* << left shift -> \n",
    "* '>>' right shift\n"
   ]
  },
  {
   "cell_type": "code",
   "execution_count": 13,
   "id": "7337513a-68f2-4f85-8d99-662e51147415",
   "metadata": {},
   "outputs": [
    {
     "data": {
      "text/plain": [
       "4"
      ]
     },
     "execution_count": 13,
     "metadata": {},
     "output_type": "execute_result"
    }
   ],
   "source": [
    "4 & 5"
   ]
  },
  {
   "cell_type": "markdown",
   "id": "70c4277d-3d8b-4347-9651-eea5e249cefb",
   "metadata": {},
   "source": [
    "| apply and on binary form | \n",
    "| ------------------  |\n",
    "| 100  |\n",
    "| 101  |\n",
    "| ---  |\n",
    "| 100  which is 4|\n",
    "\n"
   ]
  },
  {
   "cell_type": "code",
   "execution_count": 14,
   "id": "e59101d5-510b-4d9b-b52c-a53c0371ac74",
   "metadata": {},
   "outputs": [
    {
     "data": {
      "text/plain": [
       "5"
      ]
     },
     "execution_count": 14,
     "metadata": {},
     "output_type": "execute_result"
    }
   ],
   "source": [
    "4 | 5"
   ]
  },
  {
   "cell_type": "markdown",
   "id": "aa7a0242-b258-4978-a185-30226f8494c9",
   "metadata": {},
   "source": [
    "| apply or on binary form | \n",
    "| ------------------  |\n",
    "| 100  |\n",
    "| 101  |\n",
    "| ---  |\n",
    "| 101  which is 5|\n"
   ]
  },
  {
   "cell_type": "code",
   "execution_count": 16,
   "id": "5f9ceb3d-6a01-4040-a3f6-457d5b8b3639",
   "metadata": {},
   "outputs": [
    {
     "data": {
      "text/plain": [
       "1"
      ]
     },
     "execution_count": 16,
     "metadata": {},
     "output_type": "execute_result"
    }
   ],
   "source": [
    "4 ^ 5"
   ]
  },
  {
   "cell_type": "markdown",
   "id": "3dda0628-33a7-4879-aec8-c54495a469fb",
   "metadata": {},
   "source": [
    "| apply xor on binary form | \n",
    "| ------------------  |\n",
    "| 100  |\n",
    "| 101  |\n",
    "| ---  |\n",
    "| 001  which is 1|"
   ]
  },
  {
   "cell_type": "code",
   "execution_count": 17,
   "id": "f7294c6c-497a-4fac-a982-2f211c8ff233",
   "metadata": {},
   "outputs": [
    {
     "data": {
      "text/plain": [
       "-5"
      ]
     },
     "execution_count": 17,
     "metadata": {},
     "output_type": "execute_result"
    }
   ],
   "source": [
    "~4"
   ]
  },
  {
   "cell_type": "code",
   "execution_count": 19,
   "id": "ddc0f0e2-36ae-429f-9fb2-ddb67518a72f",
   "metadata": {},
   "outputs": [
    {
     "name": "stdout",
     "output_type": "stream",
     "text": [
      "Running in 64-bit mode.\n"
     ]
    }
   ],
   "source": [
    "import sys\n",
    "\n",
    "if sys.maxsize > 2147483647:\n",
    "  print(\"Running in 64-bit mode.\")\n",
    "else:\n",
    "  print(\"Not running in 64-bit mode.\")"
   ]
  },
  {
   "cell_type": "code",
   "execution_count": 27,
   "id": "0a12bf77-eec0-41dc-98b9-1da30e4e8efb",
   "metadata": {},
   "outputs": [
    {
     "data": {
      "text/plain": [
       "'0000000000000000000000000000000000000000000000000000000000000100'"
      ]
     },
     "execution_count": 27,
     "metadata": {},
     "output_type": "execute_result"
    }
   ],
   "source": [
    "\"{:064b}\".format(4)"
   ]
  },
  {
   "cell_type": "code",
   "execution_count": 28,
   "id": "bcd22927-8dc2-40f7-ab8a-8b78596b2c0e",
   "metadata": {},
   "outputs": [
    {
     "data": {
      "text/plain": [
       "'-000000000000000000000000000000000000000000000000000000000000101'"
      ]
     },
     "execution_count": 28,
     "metadata": {},
     "output_type": "execute_result"
    }
   ],
   "source": [
    "\"{:064b}\".format(-5)"
   ]
  },
  {
   "cell_type": "markdown",
   "id": "5b7ca2f0-263f-44e7-ac7c-6cc7b3c3826c",
   "metadata": {},
   "source": [
    "| apply negation on binary form | \n",
    "| ------------------  |\n",
    "| 100  |\n",
    "| ---  |\n",
    "| -100  now add 1 in the result (related to 2's form)|\n",
    "| ---  |\n",
    "|  -101   which is -5|\n"
   ]
  },
  {
   "cell_type": "code",
   "execution_count": 30,
   "id": "072c5496-278f-4daf-8742-b2a4a2ff1d97",
   "metadata": {},
   "outputs": [
    {
     "data": {
      "text/plain": [
       "-2"
      ]
     },
     "execution_count": 30,
     "metadata": {},
     "output_type": "execute_result"
    }
   ],
   "source": [
    "~True"
   ]
  },
  {
   "cell_type": "markdown",
   "id": "ecddb2b9-3b55-44db-9c9d-87dec6d8325e",
   "metadata": {},
   "source": [
    "**Shift operators are costly operators**\n",
    "* Shift operators are considered deprecated\n"
   ]
  },
  {
   "cell_type": "code",
   "execution_count": 32,
   "id": "620620c8-5ca8-4985-a5cd-5e0e50fbea2d",
   "metadata": {},
   "outputs": [
    {
     "data": {
      "text/plain": [
       "16"
      ]
     },
     "execution_count": 32,
     "metadata": {},
     "output_type": "execute_result"
    }
   ],
   "source": [
    "4<<2"
   ]
  },
  {
   "cell_type": "code",
   "execution_count": 33,
   "id": "ebdd63e0-00dd-4a32-9fee-82d6306ff77b",
   "metadata": {},
   "outputs": [
    {
     "data": {
      "text/plain": [
       "1"
      ]
     },
     "execution_count": 33,
     "metadata": {},
     "output_type": "execute_result"
    }
   ],
   "source": [
    "4>>2"
   ]
  },
  {
   "cell_type": "markdown",
   "id": "98071804-6529-47cd-a4f3-345d2a376727",
   "metadata": {},
   "source": [
    "##### Assignment operator"
   ]
  },
  {
   "cell_type": "code",
   "execution_count": 34,
   "id": "dedb4436-ad2d-4119-acf4-eb204dc8f11b",
   "metadata": {},
   "outputs": [
    {
     "name": "stdout",
     "output_type": "stream",
     "text": [
      "10\n"
     ]
    }
   ],
   "source": [
    "a=10\n",
    "print(a)"
   ]
  },
  {
   "cell_type": "code",
   "execution_count": 36,
   "id": "f65e388c-a77a-4cf5-a238-50eddd20b38d",
   "metadata": {},
   "outputs": [
    {
     "name": "stdout",
     "output_type": "stream",
     "text": [
      "10 20 30 40\n"
     ]
    }
   ],
   "source": [
    "a,b,c,d=10,20,30,40\n",
    "print(a,b,c,d)"
   ]
  },
  {
   "cell_type": "code",
   "execution_count": 37,
   "id": "60850bd0-c1f9-462b-bfce-491c17d740be",
   "metadata": {},
   "outputs": [
    {
     "ename": "ValueError",
     "evalue": "not enough values to unpack (expected 4, got 3)",
     "output_type": "error",
     "traceback": [
      "\u001b[1;31m---------------------------------------------------------------------------\u001b[0m",
      "\u001b[1;31mValueError\u001b[0m                                Traceback (most recent call last)",
      "Cell \u001b[1;32mIn[37], line 1\u001b[0m\n\u001b[1;32m----> 1\u001b[0m a,b,c,d\u001b[38;5;241m=\u001b[39m\u001b[38;5;241m10\u001b[39m,\u001b[38;5;241m20\u001b[39m,\u001b[38;5;241m30\u001b[39m\n",
      "\u001b[1;31mValueError\u001b[0m: not enough values to unpack (expected 4, got 3)"
     ]
    }
   ],
   "source": [
    "a,b,c,d=10,20,30"
   ]
  },
  {
   "cell_type": "code",
   "execution_count": 41,
   "id": "2f5ecfdb-22d1-413f-89f6-f2bbd5d1c280",
   "metadata": {},
   "outputs": [
    {
     "name": "stdout",
     "output_type": "stream",
     "text": [
      "4\n"
     ]
    }
   ],
   "source": [
    "a=4\n",
    "a &= 5\n",
    "print(a)"
   ]
  },
  {
   "cell_type": "markdown",
   "id": "c2038e19-02d1-42f3-9984-62e2f7284e2c",
   "metadata": {},
   "source": [
    "### Ternary operator\n",
    "**First value -> condition -> second value**"
   ]
  },
  {
   "cell_type": "code",
   "execution_count": 44,
   "id": "1d2a1289-e98c-476c-98c3-f61b2f44411c",
   "metadata": {},
   "outputs": [
    {
     "data": {
      "text/plain": [
       "20"
      ]
     },
     "execution_count": 44,
     "metadata": {},
     "output_type": "execute_result"
    }
   ],
   "source": [
    "10 if 5> 6 else 20"
   ]
  },
  {
   "cell_type": "code",
   "execution_count": 45,
   "id": "ca8f6f30-b793-4798-a346-33d6102aed48",
   "metadata": {},
   "outputs": [
    {
     "data": {
      "text/plain": [
       "10"
      ]
     },
     "execution_count": 45,
     "metadata": {},
     "output_type": "execute_result"
    }
   ],
   "source": [
    "10 if 5 < 6 else 20"
   ]
  },
  {
   "cell_type": "markdown",
   "id": "98859fe2-9b20-48ca-b1a0-88914015c4b7",
   "metadata": {},
   "source": [
    "**Nesting of ternary operator is possible**"
   ]
  },
  {
   "cell_type": "code",
   "execution_count": 46,
   "id": "162f7d75-e23f-4bfe-a559-34d27078fda6",
   "metadata": {},
   "outputs": [
    {
     "data": {
      "text/plain": [
       "30"
      ]
     },
     "execution_count": 46,
     "metadata": {},
     "output_type": "execute_result"
    }
   ],
   "source": [
    "10 if 10 > 20 else 20 if 20 > 30 else 30"
   ]
  },
  {
   "cell_type": "markdown",
   "id": "d6cf099c-2538-4629-934e-837ad82b345f",
   "metadata": {},
   "source": [
    "### Identity operator\n",
    "* is\n",
    "* is not\n",
    "\n",
    "**When the variables on either side of an operator point at the exact same object, the is operator’s evaluation is true. Otherwise, it will evaluate as False.**"
   ]
  },
  {
   "cell_type": "code",
   "execution_count": 48,
   "id": "5f07ee9d-d73b-4c61-acd6-c66fffe94c91",
   "metadata": {},
   "outputs": [
    {
     "data": {
      "text/plain": [
       "False"
      ]
     },
     "execution_count": 48,
     "metadata": {},
     "output_type": "execute_result"
    }
   ],
   "source": [
    "a= 10\n",
    "b = 20\n",
    "a is b"
   ]
  },
  {
   "cell_type": "code",
   "execution_count": null,
   "id": "0e0961bc-1e94-4806-9a57-13d03db96728",
   "metadata": {},
   "outputs": [],
   "source": []
  }
 ],
 "metadata": {
  "kernelspec": {
   "display_name": "Python 3 (ipykernel)",
   "language": "python",
   "name": "python3"
  },
  "language_info": {
   "codemirror_mode": {
    "name": "ipython",
    "version": 3
   },
   "file_extension": ".py",
   "mimetype": "text/x-python",
   "name": "python",
   "nbconvert_exporter": "python",
   "pygments_lexer": "ipython3",
   "version": "3.12.1"
  }
 },
 "nbformat": 4,
 "nbformat_minor": 5
}
