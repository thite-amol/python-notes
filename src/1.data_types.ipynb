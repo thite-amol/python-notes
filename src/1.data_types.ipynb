{
 "cells": [
  {
   "cell_type": "code",
   "execution_count": null,
   "id": "53584416-7a66-4429-9a88-b6fcffa957ec",
   "metadata": {},
   "outputs": [],
   "source": []
  },
  {
   "cell_type": "markdown",
   "id": "25a4f879-4279-49b2-99cc-6644572ade41",
   "metadata": {},
   "source": [
    "<img style=\"float: left;\" src=\"images/data_type_family.jpg\">"
   ]
  },
  {
   "cell_type": "markdown",
   "id": "7ce266e7-7a22-4dfc-b45a-61ac76efb326",
   "metadata": {},
   "source": [
    "### Data type cheat sheet"
   ]
  },
  {
   "cell_type": "markdown",
   "id": "23893fa5-c941-417b-9ca0-9064a57df9ba",
   "metadata": {},
   "source": [
    "| String            | List               |  Tuple            | Set                  | Dictionary      |\n",
    "| ------------------| ------------------ | -------           | -------              | -------         |\n",
    "| Immutable         | Mutable            | Immutable         | Mutable              | Mutable         |\n",
    "| Ordered/indexed   | Ordered/indexed    | Ordered/indexed   | Unordered            | Unordered <=3.6 |\n",
    "| Allowed duplicate | Allowed duplicate  | Allowed duplicate | No duplicate members |No duplicate keys|\n",
    "| Empty string \"\"   | []                 |()                 | set()                | {}              |\n",
    "|                   | Can store any data type | Can store any data type | int, str, tuple | Key only have int,str,tuple |\n",
    "|  subscriptable    | subscriptable      | subscriptable     | Not subscriptable    |Not subscriptable|\n",
    "\n"
   ]
  },
  {
   "cell_type": "markdown",
   "id": "7eda4bc6-4a66-431a-92e0-de186a1badb5",
   "metadata": {},
   "source": [
    "#### python reuse below data types references\n",
    "* Integer (0-256)\n",
    "* string -> always\n",
    "* bool -> always"
   ]
  },
  {
   "cell_type": "markdown",
   "id": "e3ef6602-8b1d-494a-9124-28c98516fe44",
   "metadata": {},
   "source": [
    "##### Below example demostrate same memory address if integer is with range of 0-256"
   ]
  },
  {
   "cell_type": "code",
   "execution_count": 3,
   "id": "467885f0-dcb5-4999-b787-63d6c9210a1a",
   "metadata": {},
   "outputs": [
    {
     "name": "stdout",
     "output_type": "stream",
     "text": [
      "140733850598104 140733850598104\n"
     ]
    }
   ],
   "source": [
    "a= 10\n",
    "b= 10\n",
    "print(id(a), id(b))"
   ]
  },
  {
   "cell_type": "markdown",
   "id": "7c3057b9-528a-4970-a498-a91196f34c18",
   "metadata": {},
   "source": [
    "##### Below example demostrate different memory address"
   ]
  },
  {
   "cell_type": "code",
   "execution_count": 6,
   "id": "deb76507-38c5-4883-abba-ae6814d0077a",
   "metadata": {},
   "outputs": [
    {
     "name": "stdout",
     "output_type": "stream",
     "text": [
      "2210003805328 2210003804944\n"
     ]
    }
   ],
   "source": [
    "c= 257\n",
    "d= 257\n",
    "print(id(c), id(d))"
   ]
  },
  {
   "cell_type": "markdown",
   "id": "12baa3da-99a3-4cd5-a8e1-6662bd854621",
   "metadata": {},
   "source": [
    "#### If we use ***is*** operator on above example we will get different results "
   ]
  },
  {
   "cell_type": "code",
   "execution_count": 7,
   "id": "904150ad-8ac2-4172-ad92-b772a31f02a6",
   "metadata": {},
   "outputs": [
    {
     "name": "stdout",
     "output_type": "stream",
     "text": [
      "True\n",
      "False\n"
     ]
    }
   ],
   "source": [
    "print(a is b)\n",
    "print(c is d)"
   ]
  },
  {
   "cell_type": "markdown",
   "id": "0be846d1-2def-4de6-b90c-56c44e1cc634",
   "metadata": {},
   "source": [
    "#### For string python always use object references "
   ]
  },
  {
   "cell_type": "code",
   "execution_count": 5,
   "id": "929d826a-7eb1-4ca8-aa2d-6d8744b180ec",
   "metadata": {},
   "outputs": [
    {
     "name": "stdout",
     "output_type": "stream",
     "text": [
      "2210004243376 2210004239664\n"
     ]
    }
   ],
   "source": [
    "s1= \"python is fun\"\n",
    "s2= \"python is fun\"\n",
    "print(id(s1), id(s2))"
   ]
  },
  {
   "cell_type": "markdown",
   "id": "f8314743-3229-426b-a7e0-83ebb4d3d3aa",
   "metadata": {},
   "source": [
    "\n",
    "#### For bool values reference are always used\n",
    "* bool is a subclass of int class\n",
    "* True represent 1 as a value while False represents 0"
   ]
  },
  {
   "cell_type": "code",
   "execution_count": 8,
   "id": "4e9c5187-06c0-4199-b17a-4d0245aa2861",
   "metadata": {},
   "outputs": [
    {
     "name": "stdout",
     "output_type": "stream",
     "text": [
      "140733849803568 140733849803568\n"
     ]
    }
   ],
   "source": [
    "b1 = True \n",
    "b2 = True\n",
    "print(id(b1), id(b2))"
   ]
  },
  {
   "cell_type": "code",
   "execution_count": 9,
   "id": "846379c9-462c-4ab9-807e-0fe272c33d9a",
   "metadata": {},
   "outputs": [
    {
     "data": {
      "text/plain": [
       "2"
      ]
     },
     "execution_count": 9,
     "metadata": {},
     "output_type": "execute_result"
    }
   ],
   "source": [
    "True + True"
   ]
  },
  {
   "cell_type": "code",
   "execution_count": 10,
   "id": "919ec5c9-2072-411b-8eb6-1a904f09d43a",
   "metadata": {},
   "outputs": [
    {
     "data": {
      "text/plain": [
       "True"
      ]
     },
     "execution_count": 10,
     "metadata": {},
     "output_type": "execute_result"
    }
   ],
   "source": [
    "isinstance(True, int)"
   ]
  },
  {
   "cell_type": "markdown",
   "id": "06d23db8-ba87-4fc4-928c-5f02707f33bd",
   "metadata": {},
   "source": [
    "### range() \n",
    "\n",
    "* immutable\n",
    "* Subscriptable\n",
    "* Can access through index"
   ]
  },
  {
   "cell_type": "code",
   "execution_count": 11,
   "id": "15d800b3-d5be-42e4-9e99-7dfec96a7e2c",
   "metadata": {},
   "outputs": [],
   "source": [
    "r = range(10)"
   ]
  },
  {
   "cell_type": "code",
   "execution_count": 14,
   "id": "89b42791-bb30-4b34-95eb-ee48b290105f",
   "metadata": {},
   "outputs": [
    {
     "name": "stdout",
     "output_type": "stream",
     "text": [
      "range(0, 10)\n",
      "5\n",
      "range(0, 5)\n"
     ]
    }
   ],
   "source": [
    "print(r)\n",
    "print(r[5])\n",
    "print(r[0:5])"
   ]
  },
  {
   "cell_type": "code",
   "execution_count": 15,
   "id": "8ee43655-9f80-49a6-8456-83d046e8531f",
   "metadata": {},
   "outputs": [
    {
     "ename": "TypeError",
     "evalue": "'type' object does not support item assignment",
     "output_type": "error",
     "traceback": [
      "\u001b[1;31m---------------------------------------------------------------------------\u001b[0m",
      "\u001b[1;31mTypeError\u001b[0m                                 Traceback (most recent call last)",
      "Cell \u001b[1;32mIn[15], line 1\u001b[0m\n\u001b[1;32m----> 1\u001b[0m \u001b[38;5;28;43mrange\u001b[39;49m\u001b[43m[\u001b[49m\u001b[38;5;241;43m5\u001b[39;49m\u001b[43m]\u001b[49m\u001b[38;5;241m=\u001b[39m\u001b[38;5;241m50\u001b[39m\n",
      "\u001b[1;31mTypeError\u001b[0m: 'type' object does not support item assignment"
     ]
    }
   ],
   "source": [
    "range[5]=50"
   ]
  },
  {
   "cell_type": "markdown",
   "id": "f895101b-2ddf-4695-8b81-9b3fd93e891f",
   "metadata": {},
   "source": [
    "### Slicing\n",
    "\n",
    "* Forward\n",
    "* * default value of step and begin value is 1\n",
    "* * [start:end-1]\n",
    "* * [start:end-1:step]\n",
    "* backword\n",
    "* * Default value of beginf is -1\n",
    "* * [start:end+1:-1]\n",
    "    "
   ]
  },
  {
   "cell_type": "code",
   "execution_count": 16,
   "id": "a23b5f2d-399d-4f6c-a6d7-2820af13670d",
   "metadata": {},
   "outputs": [],
   "source": [
    "s = [1, 2,3,4,5,6,7,8,9,10]"
   ]
  },
  {
   "cell_type": "code",
   "execution_count": 19,
   "id": "eb9a033e-496a-4fbe-91ee-1703ee0cb07e",
   "metadata": {},
   "outputs": [
    {
     "name": "stdout",
     "output_type": "stream",
     "text": [
      "[1, 2, 3, 4, 5, 6, 7, 8, 9, 10]\n",
      "[10, 9, 8, 7, 6, 5, 4, 3, 2, 1]\n",
      "[10, 8, 6, 4, 2]\n",
      "[2, 3, 4]\n",
      "[]\n",
      "[7]\n"
     ]
    }
   ],
   "source": [
    "print(s[:])\n",
    "print(s[::-1])\n",
    "print(s[::-2])\n",
    "print(s[1:4])\n",
    "print(s[1:-5:-1])\n",
    "print(s[6:-5:-1])\n"
   ]
  },
  {
   "cell_type": "markdown",
   "id": "c6c8ac69-e016-4c59-9658-9052225ad461",
   "metadata": {},
   "source": [
    "### Hashable\n",
    "* hashing is some kind of indexing in python\n",
    "* same value of object represent same hash value\n",
    "* Immutable objects tend to be hashable. So strings, numbers, and tuples are all hashable\n",
    "\n",
    "  More info **[read here](https://www.pythonmorsels.com/what-are-hashable-objects/)**"
   ]
  },
  {
   "cell_type": "code",
   "execution_count": 20,
   "id": "dfb5fe45-2ae4-4456-9a54-cd83d5e81014",
   "metadata": {},
   "outputs": [
    {
     "name": "stdout",
     "output_type": "stream",
     "text": [
      "-4266295778514409031\n",
      "-4266295778514409031\n"
     ]
    }
   ],
   "source": [
    "x = (2, 1, 3, 4)\n",
    "y = (2, 1, 3, 4)\n",
    "# These two tuples represent the same data, so they're equal: also there hash is also same\n",
    "print(hash(x))\n",
    "print(hash(y))"
   ]
  },
  {
   "cell_type": "markdown",
   "id": "aedb47e9-3239-41c1-bbd0-55d44fa68af7",
   "metadata": {},
   "source": [
    "### list vs tuple\n",
    "* Tuples are immutable data types which are stored in a single block of memory so it doesn’t require extra space to store new objects.\n",
    "* But list are mutable data types and are allocated in two blocks where the fixed one with all object information and a variable sized block for the data.\n",
    "* There is slight difference in indexing speed of list and tuple because tuples uses fewer pointers when indexing than that of list. Becuase of fewer pointers, acess mechanism is generally faster in tuples than lists\n",
    "* Copying tuples is faster than copying lists because the original data structure doesn't need to be copied; only references to the unchanged elements are copied.\n",
    "  "
   ]
  },
  {
   "cell_type": "code",
   "execution_count": 22,
   "id": "f7b56a5b-7742-46e1-88be-e986b789b8cb",
   "metadata": {},
   "outputs": [
    {
     "name": "stdout",
     "output_type": "stream",
     "text": [
      "120\n",
      "136\n"
     ]
    }
   ],
   "source": [
    "import sys\n",
    "print(sys.getsizeof(tuple(iter(range(10)))))\n",
    "print(sys.getsizeof(list(iter(range(10)))))"
   ]
  },
  {
   "cell_type": "code",
   "execution_count": null,
   "id": "465ad1b8-d209-426d-b4ee-7f1d80610e13",
   "metadata": {},
   "outputs": [],
   "source": []
  }
 ],
 "metadata": {
  "kernelspec": {
   "display_name": "Python 3 (ipykernel)",
   "language": "python",
   "name": "python3"
  },
  "language_info": {
   "codemirror_mode": {
    "name": "ipython",
    "version": 3
   },
   "file_extension": ".py",
   "mimetype": "text/x-python",
   "name": "python",
   "nbconvert_exporter": "python",
   "pygments_lexer": "ipython3",
   "version": "3.12.1"
  }
 },
 "nbformat": 4,
 "nbformat_minor": 5
}
