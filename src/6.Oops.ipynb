{
 "cells": [
  {
   "cell_type": "markdown",
   "id": "2da5820c-9e16-4c67-8599-2fd0a56799d4",
   "metadata": {},
   "source": [
    "`Object-oriented` programming is a programming paradigm that provides a means of structuring programs so that properties and behaviors are bundled into individual objects.\n",
    "\n",
    "The main concept of OOPs is to bind the data and the functions that work on that together as a single unit so that no other part of the code can access this data.\n",
    "\n",
    "# OOPs Concepts in Python\n",
    "* Class\n",
    "* Objects\n",
    "* Polymorphism\n",
    "* Encapsulation\n",
    "* Inheritance\n",
    "* Data Abstraction"
   ]
  },
  {
   "cell_type": "markdown",
   "id": "5b155115-7c28-4ed3-b8c8-b1292c7e17b1",
   "metadata": {},
   "source": [
    "## Class\n",
    "A class is a collection of objects. A class contains the blueprints or the prototype from which the objects are being created. It is a logical entity that contains some attributes and methods. "
   ]
  },
  {
   "cell_type": "code",
   "execution_count": 28,
   "id": "bc703d01-7c23-4271-9604-a26f44d4cb0f",
   "metadata": {},
   "outputs": [],
   "source": [
    "import datetime\n",
    "class Employee:\n",
    "    def get_time(self):\n",
    "        return datetime.datetime.now(datetime.UTC)\n"
   ]
  },
  {
   "cell_type": "code",
   "execution_count": 29,
   "id": "e32cf8df-1f5a-40f3-94f0-daa17e3af604",
   "metadata": {},
   "outputs": [
    {
     "name": "stdout",
     "output_type": "stream",
     "text": [
      "Object : <__main__.Employee object at 0x000001AA5FDCBAD0>\n",
      "type: <class '__main__.Employee'>\n",
      "Method call: 2024-03-25 09:13:49.891003+00:00\n"
     ]
    }
   ],
   "source": [
    "emp = Employee()\n",
    "\n",
    "print(f\"Object : {emp}\")\n",
    "print(f\"type: {type(emp)}\")\n",
    "print(f\"Method call: {emp.get_time()}\")"
   ]
  },
  {
   "cell_type": "markdown",
   "id": "4c5ebce0-dfd0-438d-9a2a-54826173f714",
   "metadata": {},
   "source": [
    "### `__init__()`\n",
    "`__init__()` is a special method that is used for initialising instances of the class. It's called when you create an instance of the class. \n",
    "\n",
    "* When you create a new object of a class, Python automatically calls the `__init__()` method to initialize the object’s attributes.\n",
    "* Note that the `__init__` method doesn’t create the object but only initializes the object’s attributes. Hence, the `__init__()` is not a constructor."
   ]
  },
  {
   "cell_type": "code",
   "execution_count": 31,
   "id": "3f58c1ef-2cb0-406e-8fa9-c7f88f6a65ef",
   "metadata": {},
   "outputs": [],
   "source": [
    "class Employee:\n",
    "    def __init__(self, name, age):\n",
    "        self.name =  name\n",
    "        self.age = age"
   ]
  },
  {
   "cell_type": "code",
   "execution_count": 33,
   "id": "b2ec56a8-38ec-4715-b3ff-6fe8de2c9aaf",
   "metadata": {},
   "outputs": [
    {
     "name": "stdout",
     "output_type": "stream",
     "text": [
      "bob\n"
     ]
    }
   ],
   "source": [
    "emp = Employee(\"bob\", 25)\n",
    "print(emp.name)"
   ]
  },
  {
   "cell_type": "markdown",
   "id": "f623702c-6e60-4c05-80f5-edce4a9e0f1e",
   "metadata": {},
   "source": [
    "### `__new__()`\n",
    "The `__new__` method is a static method that belongs to the class itself. It’s responsible for creating and returning a new instance of the class.\n",
    "\n",
    "The `__new__` method is called before the `__init__` method and is often used when you need to control the object creation process, like in the case of `singletons` or when you want to inherit from immutable classes."
   ]
  },
  {
   "cell_type": "code",
   "execution_count": 46,
   "id": "313b28ce-3385-4789-a882-fe474d5ca8c8",
   "metadata": {},
   "outputs": [],
   "source": [
    "class Employee:\n",
    "    def __new__(cls, name, age):\n",
    "        print(\"creating new object\")\n",
    "        instance = super().__new__(cls)\n",
    "        return instance\n",
    "    def __init__(self, name, age):\n",
    "        print(\"initializing instance\")\n",
    "        self.name =  name\n",
    "        self.age = age"
   ]
  },
  {
   "cell_type": "code",
   "execution_count": 47,
   "id": "865c065e-7b67-4369-8867-8196352c0420",
   "metadata": {},
   "outputs": [
    {
     "name": "stdout",
     "output_type": "stream",
     "text": [
      "creating new object\n",
      "initializing instance\n"
     ]
    }
   ],
   "source": [
    "emp = Employee(\"bob\", 25)"
   ]
  },
  {
   "cell_type": "code",
   "execution_count": 87,
   "id": "95443eb8-703a-413f-bfb1-5faa29189f86",
   "metadata": {},
   "outputs": [],
   "source": [
    "# Creating singleton object by manipulating new method\n",
    "class Employee:\n",
    "    instance = None\n",
    "    def __new__(cls, name, age):\n",
    "        if not cls.instance:           \n",
    "            print(\"creating new object\")\n",
    "            instance = super().__new__(cls)\n",
    "            cls.instance = instance\n",
    "        return cls.instance\n",
    "    def __init__(self, name, age):\n",
    "        print(\"initializing instance\")\n",
    "        self.name =  name\n",
    "        self.age = age"
   ]
  },
  {
   "cell_type": "code",
   "execution_count": 88,
   "id": "5aad6e1f-ad7e-4a24-81d9-8c8aead128e2",
   "metadata": {},
   "outputs": [
    {
     "name": "stdout",
     "output_type": "stream",
     "text": [
      "creating new object\n",
      "initializing instance\n",
      "initializing instance\n",
      "1831262779344\n",
      "1831262779344\n"
     ]
    }
   ],
   "source": [
    "emp = Employee(\"bob\", 25)\n",
    "emp2 = Employee(\"harry\", 26)\n",
    "\n",
    "print(id(emp))\n",
    "print(id(emp2)) # both are having same id"
   ]
  },
  {
   "cell_type": "markdown",
   "id": "e7e3c410-4ab3-4b3a-8c0e-191aa4df66ed",
   "metadata": {},
   "source": [
    "## Objects\n",
    "**An object consists of:**\n",
    "\n",
    "* **State:** It is represented by the attributes of an object. It also reflects the properties of an object.\n",
    "* **Behavior:** It is represented by the methods of an object. It also reflects the response of an object to other objects.\n",
    "* **Identity:** It gives a unique name to an object and enables one object to interact with other objects."
   ]
  },
  {
   "cell_type": "code",
   "execution_count": 67,
   "id": "50a0160d-a11d-45d9-bf31-c914278ef6c4",
   "metadata": {},
   "outputs": [
    {
     "name": "stdout",
     "output_type": "stream",
     "text": [
      "initializing instance\n"
     ]
    }
   ],
   "source": [
    "# creating object \n",
    "emp = Employee(\"bob\", 25)"
   ]
  },
  {
   "cell_type": "markdown",
   "id": "6e0d850d-369f-4527-a0da-5f31c1321a09",
   "metadata": {},
   "source": [
    "## Inheritance\n",
    "\n",
    "**Types of Inheritance**\n",
    "* `Single Inheritance:` Single-level inheritance enables a derived class to inherit characteristics from a single-parent class.\n",
    "* `Multilevel Inheritance:` Multi-level inheritance enables a derived class to inherit properties from an immediate parent class which in turn inherits properties from his parent class. \n",
    "* `Hierarchical Inheritance:` Hierarchical-level inheritance enables more than one derived class to inherit properties from a parent class.\n",
    "* `Multiple Inheritance:` Multiple-level inheritance enables one derived class to inherit properties from more than one base class."
   ]
  },
  {
   "cell_type": "markdown",
   "id": "343edc3f-970f-44ea-9555-9ffeddf4a138",
   "metadata": {},
   "source": [
    "### 1. `Single inheritance`"
   ]
  },
  {
   "cell_type": "code",
   "execution_count": 69,
   "id": "7ad761be-0431-4e17-9495-6aed175af8a1",
   "metadata": {},
   "outputs": [
    {
     "name": "stdout",
     "output_type": "stream",
     "text": [
      "John is a Professor\n"
     ]
    }
   ],
   "source": [
    "# single inheritance \n",
    "class Person:\n",
    "    def __init__(self, name, age):\n",
    "        self.name = name\n",
    "        self.age = age\n",
    "class Professor(Person): # inherited with Person class\n",
    "    def isProfessor(self):\n",
    "        return f\"{self.name} is a Professor\"\n",
    "sir = Professor(\"John\", 30)\n",
    "print(sir.isProfessor())"
   ]
  },
  {
   "cell_type": "markdown",
   "id": "9d79b7ad-9f1a-4c6b-adaa-8a888e0e13ec",
   "metadata": {},
   "source": [
    "### 2. `Multiple inheritance`"
   ]
  },
  {
   "cell_type": "code",
   "execution_count": 72,
   "id": "074de225-9b9f-42f7-b2b6-ff93b48da87d",
   "metadata": {},
   "outputs": [
    {
     "name": "stdout",
     "output_type": "stream",
     "text": [
      "8\n"
     ]
    }
   ],
   "source": [
    "class SuperClass1:\n",
    "    num1 = 3\n",
    "class SuperClass2:\n",
    "    num2 = 5\n",
    "class SubClass( SuperClass1, SuperClass2):\n",
    "    def addition(self):\n",
    "        return self.num1 + self.num2\n",
    "obj = SubClass()\n",
    "print(obj.addition())"
   ]
  },
  {
   "cell_type": "markdown",
   "id": "2eb85ac4-463f-423b-9085-0f3c65838873",
   "metadata": {},
   "source": [
    "### 3. `Multilevel inheritance`"
   ]
  },
  {
   "cell_type": "code",
   "execution_count": 73,
   "id": "369a4d22-84cb-4598-981d-e6da325ff955",
   "metadata": {},
   "outputs": [
    {
     "name": "stdout",
     "output_type": "stream",
     "text": [
      "PythonGeeks\n"
     ]
    }
   ],
   "source": [
    "class Parent:\n",
    "    str1 = \"Python\"\n",
    "class Child(Parent):\n",
    "    str2 = \"Geeks\"\n",
    "class GrandChild(Child):\n",
    "    def get_str(self):\n",
    "        print(self.str1 + self.str2)\n",
    "person = GrandChild()\n",
    "person.get_str()"
   ]
  },
  {
   "cell_type": "markdown",
   "id": "dc2a28b3-3378-43f9-98d3-14fc18127146",
   "metadata": {},
   "source": [
    "### 4. `Hierarchical inheritance`"
   ]
  },
  {
   "cell_type": "code",
   "execution_count": 74,
   "id": "655f2561-b084-4813-b81b-7e2454260b55",
   "metadata": {},
   "outputs": [
    {
     "name": "stdout",
     "output_type": "stream",
     "text": [
      "3 3 3\n"
     ]
    }
   ],
   "source": [
    "class SuperClass:\n",
    "    x = 3\n",
    "class SubClass1(SuperClass):\n",
    "    pass\n",
    "class SubClass2(SuperClass):\n",
    "    pass\n",
    "class SubClass3(SuperClass):\n",
    "    pass\n",
    "a = SubClass1()\n",
    "b = SubClass2()\n",
    "c = SubClass3()\n",
    "print(a.x, b.x, c.x)"
   ]
  },
  {
   "cell_type": "markdown",
   "id": "c865ceaf-b8a3-4212-a5e2-fac1d471d8b4",
   "metadata": {},
   "source": [
    "### `super()`\n",
    "In Python, the `super()` function is used to refer to the parent class or superclass. It allows you to call methods defined in the superclass from the subclass, enabling you to extend and customize the functionality inherited from the parent class\n",
    "\n",
    "More info - https://blog.finxter.com/python-super-function/"
   ]
  },
  {
   "cell_type": "code",
   "execution_count": 34,
   "id": "30e6c122-24ec-4f1e-826b-a4b97aa4698c",
   "metadata": {},
   "outputs": [
    {
     "name": "stdout",
     "output_type": "stream",
     "text": [
      "The ID is: 103\n",
      "The Name is: Suraj kr gupta\n",
      "The Address is: Noida\n",
      "The Emails is: KKK@gmails\n"
     ]
    }
   ],
   "source": [
    "class Emp():\n",
    "\tdef __init__(self, id, name, Add):\n",
    "\t\tself.id = id\n",
    "\t\tself.name = name\n",
    "\t\tself.Add = Add\n",
    "\n",
    "# Class freelancer inherits EMP\n",
    "class Freelance(Emp):\n",
    "\tdef __init__(self, id, name, Add, Emails):\n",
    "\t\tsuper().__init__(id, name, Add)\n",
    "\t\tself.Emails = Emails\n",
    "\n",
    "Emp_1 = Freelance(103, \"Suraj kr gupta\", \"Noida\" , \"KKK@gmails\")\n",
    "print('The ID is:', Emp_1.id)\n",
    "print('The Name is:', Emp_1.name)\n",
    "print('The Address is:', Emp_1.Add)\n",
    "print('The Emails is:', Emp_1.Emails)\n"
   ]
  },
  {
   "cell_type": "markdown",
   "id": "f7dff5df-9786-4aeb-889f-4b1a409872cb",
   "metadata": {},
   "source": [
    "## Encapsulation\n",
    "`Encapsulation` is one of the fundamental concepts in object-oriented programming (OOP). It describes the idea of wrapping data and the methods that work on data within one unit. This puts restrictions on accessing variables and methods directly and can prevent the accidental modification of data."
   ]
  },
  {
   "cell_type": "markdown",
   "id": "0ac923e8-d939-444a-9630-bb729b5d3639",
   "metadata": {},
   "source": [
    "### Access Modifiers\n",
    "* `Public Access Modifier`    : Accessible at any part of program\n",
    "* `Protected Access Modifier` : Accessible to a class derived from it\n",
    "* `Private Access Modifier`   : Accessible within the class only"
   ]
  },
  {
   "cell_type": "code",
   "execution_count": 77,
   "id": "77f377ef-a881-4fdb-9768-bfab2b6b5a87",
   "metadata": {},
   "outputs": [
    {
     "name": "stdout",
     "output_type": "stream",
     "text": [
      "Public Data Member:  Geeks\n",
      "Protected Data Member:  4\n",
      "Private Data Member:  Geeks !\n",
      "Object is accessing protected member: 4\n"
     ]
    }
   ],
   "source": [
    "class Super:\n",
    "    # public data member\n",
    "    var1 = None\n",
    "    # protected data member\n",
    "    _var2 = None\n",
    "    # private data member\n",
    "    __var3 = None\n",
    "\n",
    "    # initializer\n",
    "    def __init__(self, var1, var2, var3):\n",
    "        self.var1 = var1\n",
    "        self._var2 = var2\n",
    "        self.__var3 = var3\n",
    "\n",
    "    # public member function\n",
    "    def displayPublicMembers(self):\n",
    "        # accessing public data members\n",
    "        print(\"Public Data Member: \", self.var1)\n",
    "\n",
    "    # protected member function\n",
    "    def _displayProtectedMembers(self):\n",
    "        # accessing protected data members\n",
    "        print(\"Protected Data Member: \", self._var2)\n",
    "\n",
    "    # private member function\n",
    "    def __displayPrivateMembers(self):\n",
    "        # accessing private data members\n",
    "        print(\"Private Data Member: \", self.__var3)\n",
    "\n",
    "    # public member function\n",
    "    def accessPrivateMembers(self):\n",
    "        # accessing private member function\n",
    "        self.__displayPrivateMembers()\n",
    "\n",
    "\n",
    "# derived class\n",
    "class Sub(Super):\n",
    "    # constructor\n",
    "    def __init__(self, var1, var2, var3):\n",
    "        Super.__init__(self, var1, var2, var3)\n",
    "\n",
    "    # public member function\n",
    "    def accessProtectedMembers(self):\n",
    "        # accessing protected member functions of super class\n",
    "        self._displayProtectedMembers()\n",
    "\n",
    "\n",
    "# creating objects of the derived class\n",
    "obj = Sub(\"Geeks\", 4, \"Geeks !\")\n",
    "\n",
    "# calling public member functions of the class\n",
    "obj.displayPublicMembers()\n",
    "obj.accessProtectedMembers()\n",
    "obj.accessPrivateMembers()\n",
    "\n",
    "# Object can access protected member\n",
    "print(\"Object is accessing protected member:\", obj._var2)\n",
    "\n",
    "# object can not access private member, so it will generate Attribute error\n",
    "# print(obj.__var3)\n"
   ]
  },
  {
   "cell_type": "code",
   "execution_count": 79,
   "id": "83b85313-50cf-4455-9500-18f5339745f4",
   "metadata": {},
   "outputs": [
    {
     "ename": "AttributeError",
     "evalue": "'Sub' object has no attribute '__displayPrivateMembers'",
     "output_type": "error",
     "traceback": [
      "\u001b[1;31m---------------------------------------------------------------------------\u001b[0m",
      "\u001b[1;31mAttributeError\u001b[0m                            Traceback (most recent call last)",
      "Cell \u001b[1;32mIn[79], line 1\u001b[0m\n\u001b[1;32m----> 1\u001b[0m \u001b[38;5;28mprint\u001b[39m(\u001b[43mobj\u001b[49m\u001b[38;5;241;43m.\u001b[39;49m\u001b[43m__displayPrivateMembers\u001b[49m())\n",
      "\u001b[1;31mAttributeError\u001b[0m: 'Sub' object has no attribute '__displayPrivateMembers'"
     ]
    }
   ],
   "source": [
    "print(obj.__displayPrivateMembers())"
   ]
  },
  {
   "cell_type": "code",
   "execution_count": 80,
   "id": "f618a8b3-0c11-4d10-8b18-7c454137df47",
   "metadata": {},
   "outputs": [
    {
     "ename": "AttributeError",
     "evalue": "'Sub' object has no attribute '__var3'",
     "output_type": "error",
     "traceback": [
      "\u001b[1;31m---------------------------------------------------------------------------\u001b[0m",
      "\u001b[1;31mAttributeError\u001b[0m                            Traceback (most recent call last)",
      "Cell \u001b[1;32mIn[80], line 1\u001b[0m\n\u001b[1;32m----> 1\u001b[0m \u001b[38;5;28mprint\u001b[39m(\u001b[43mobj\u001b[49m\u001b[38;5;241;43m.\u001b[39;49m\u001b[43m__var3\u001b[49m)\n",
      "\u001b[1;31mAttributeError\u001b[0m: 'Sub' object has no attribute '__var3'"
     ]
    }
   ],
   "source": [
    "print(obj.__var3)"
   ]
  },
  {
   "cell_type": "markdown",
   "id": "c557d673-5211-4e59-ba1c-5b3b7ef9d4bd",
   "metadata": {},
   "source": [
    "### `MRO` Method Resolution Order\n",
    " `MRO` is nothing but the order of method resolution \n",
    "\n",
    "* Children will precede their parents in the sort process\n",
    "* When a child class inherits from multiple parent and grandparent classes, the search order follows the order specified in the `__bases__` attribute.\n",
    " "
   ]
  },
  {
   "cell_type": "code",
   "execution_count": 90,
   "id": "9f43558a-3e78-4834-aa01-5128ac0d2ff4",
   "metadata": {},
   "outputs": [
    {
     "name": "stdout",
     "output_type": "stream",
     "text": [
      "[<class '__main__.D'>, <class '__main__.B'>, <class '__main__.C'>, <class '__main__.A'>, <class 'object'>]\n",
      "D method\n",
      "B method\n",
      "C method\n",
      "A method\n"
     ]
    }
   ],
   "source": [
    "class A:\n",
    "    def method(self):\n",
    "        print(\"A method\")\n",
    "\n",
    "class B(A):\n",
    "    def method(self):\n",
    "        print(\"B method\")\n",
    "        super().method()\n",
    "\n",
    "class C(A):\n",
    "    def method(self):\n",
    "        print(\"C method\")\n",
    "        super().method()\n",
    "\n",
    "class D(B, C):\n",
    "    def method(self):\n",
    "        print(\"D method\")\n",
    "        super().method()\n",
    "\n",
    "obj = D()\n",
    "print(D.mro())\n",
    "obj.method()"
   ]
  },
  {
   "cell_type": "markdown",
   "id": "d7dc78b2-b8fd-42a5-a3a9-462b97abf3c2",
   "metadata": {},
   "source": [
    "## Polymorphism\n",
    "Polymorphism simply means having many forms. For example, we need to determine if the given species of birds fly or not, using polymorphism we can do this using a single function."
   ]
  },
  {
   "cell_type": "code",
   "execution_count": 91,
   "id": "91887934-003d-4ce7-a091-bd9c155f0107",
   "metadata": {},
   "outputs": [
    {
     "name": "stdout",
     "output_type": "stream",
     "text": [
      "There are many types of birds.\n",
      "Most of the birds can fly but some cannot.\n",
      "There are many types of birds.\n",
      "Sparrows can fly.\n",
      "There are many types of birds.\n",
      "Ostriches cannot fly.\n"
     ]
    }
   ],
   "source": [
    "class Bird: \n",
    "    \n",
    "    def intro(self): \n",
    "        print(\"There are many types of birds.\") \n",
    "  \n",
    "    def flight(self): \n",
    "        print(\"Most of the birds can fly but some cannot.\") \n",
    "  \n",
    "class sparrow(Bird): \n",
    "    \n",
    "    def flight(self): \n",
    "        print(\"Sparrows can fly.\") \n",
    "  \n",
    "class ostrich(Bird): \n",
    "  \n",
    "    def flight(self): \n",
    "        print(\"Ostriches cannot fly.\") \n",
    "  \n",
    "obj_bird = Bird() \n",
    "obj_spr = sparrow() \n",
    "obj_ost = ostrich() \n",
    "  \n",
    "obj_bird.intro() \n",
    "obj_bird.flight() \n",
    "  \n",
    "obj_spr.intro() \n",
    "obj_spr.flight() \n",
    "  \n",
    "obj_ost.intro() \n",
    "obj_ost.flight() "
   ]
  },
  {
   "cell_type": "markdown",
   "id": "c346b847-ba1b-47a9-bdf2-ba491d0e7d8e",
   "metadata": {},
   "source": [
    "## `instance`, `static` and `class` method's  \n",
    "\n",
    "* Instance methods need a class instance and can access the instance through self.\n",
    "* Class methods don’t need a class instance. They can’t access the instance (self) but they have access to the class itself via cls.\n",
    "* Static methods don’t have access to cls or self. They work like regular functions but belong to the class’s namespace.\n",
    "* Static and class methods communicate and (to a certain degree) enforce developer intent about class design. This can have maintenance benefits."
   ]
  },
  {
   "cell_type": "code",
   "execution_count": 113,
   "id": "fb2ffb26-56e1-4341-ae49-287662bf8989",
   "metadata": {},
   "outputs": [],
   "source": [
    "class MyClass:\n",
    "    class_variable= \"this is class variable\"\n",
    "    def __init__(self, name):\n",
    "        self.name = name\n",
    "\n",
    "    def method(self):\n",
    "        print('instance method called', self)\n",
    "        print(f\"I can access class '{self.class_variable}' as well as instance variable {self.name}\")\n",
    "\n",
    "    @classmethod\n",
    "    def classmethod(cls):\n",
    "        print('class method called', cls)\n",
    "        print(f\"I can access class '{cls.class_variable}' but not instance variable\")\n",
    "\n",
    "    @staticmethod\n",
    "    def staticmethod():\n",
    "        print('static method called')\n",
    "        print(\"I don't have access to any type of variable\")"
   ]
  },
  {
   "cell_type": "code",
   "execution_count": 114,
   "id": "9865188a-7e50-42ed-8b34-305367c4a4ef",
   "metadata": {},
   "outputs": [],
   "source": [
    "obj = MyClass(\"instance variable\")"
   ]
  },
  {
   "cell_type": "code",
   "execution_count": 115,
   "id": "54797db8-ab54-40c0-8507-c41c5184d0de",
   "metadata": {},
   "outputs": [
    {
     "name": "stdout",
     "output_type": "stream",
     "text": [
      "instance method called <__main__.MyClass object at 0x000001AA5FD7D9A0>\n",
      "I can access class 'this is class variable' as well as instance variable instance variable\n",
      "None\n",
      "\n",
      "class method called <class '__main__.MyClass'>\n",
      "I can access class 'this is class variable' but not instance variable\n",
      "None\n",
      "\n",
      "static method called\n",
      "I don't have access to any type of variable\n",
      "None\n"
     ]
    }
   ],
   "source": [
    "## need object to call instance method\n",
    "print(obj.method())\n",
    "print()\n",
    "\n",
    "# classmethod can be called using class name or instance\n",
    "print(MyClass.classmethod())\n",
    "print()\n",
    "# static method can be called with class or instance\n",
    "print(obj.staticmethod())"
   ]
  },
  {
   "cell_type": "code",
   "execution_count": null,
   "id": "ec7a0d65-db65-462f-ae36-6f8ce07889e0",
   "metadata": {},
   "outputs": [],
   "source": []
  },
  {
   "cell_type": "code",
   "execution_count": null,
   "id": "63fa42f0-8df6-4c6e-a8af-d8cd7f266c38",
   "metadata": {},
   "outputs": [],
   "source": []
  }
 ],
 "metadata": {
  "kernelspec": {
   "display_name": "Python 3 (ipykernel)",
   "language": "python",
   "name": "python3"
  },
  "language_info": {
   "codemirror_mode": {
    "name": "ipython",
    "version": 3
   },
   "file_extension": ".py",
   "mimetype": "text/x-python",
   "name": "python",
   "nbconvert_exporter": "python",
   "pygments_lexer": "ipython3",
   "version": "3.12.1"
  }
 },
 "nbformat": 4,
 "nbformat_minor": 5
}
