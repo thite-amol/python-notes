{
 "cells": [
  {
   "cell_type": "markdown",
   "id": "24fe533a-fae6-4dc0-9415-02c79d2ae78e",
   "metadata": {},
   "source": [
    "<img style=\"float: left;\" src=\"images/ie-exception-classes2.jpg\">"
   ]
  },
  {
   "cell_type": "markdown",
   "id": "cc0fd318-c0ed-448b-bb42-1b7458392084",
   "metadata": {},
   "source": [
    "# Exceptions\n",
    "When something goes wrong an exception is raised. For example, if you try to divide by zero, `ZeroDivisionError` is raised.\n",
    "\n",
    "\n",
    "Reference - https://realpython.com/python-exceptions/"
   ]
  },
  {
   "cell_type": "markdown",
   "id": "81eb2ec6-307b-413f-89ec-7d54d2037a59",
   "metadata": {},
   "source": [
    "## `try-except` structure \n",
    "If you know that a block of code can fail in some manner, you can use `try-except` structure to handle potential exceptions in a desired way."
   ]
  },
  {
   "cell_type": "code",
   "execution_count": 1,
   "id": "6f3e0c1d-15b5-47a7-8d0f-06c84227f6ea",
   "metadata": {},
   "outputs": [
    {
     "name": "stdout",
     "output_type": "stream",
     "text": [
      "Exception: division by zero was raised\n"
     ]
    }
   ],
   "source": [
    "# Let's try with most common ZeroDivisionError\n",
    "\n",
    "try:\n",
    "    10/0\n",
    "except ZeroDivisionError as e:\n",
    "    print(f\"Exception: {e} was raised\")"
   ]
  },
  {
   "cell_type": "markdown",
   "id": "6a2bfd52-8ab8-4222-85a6-ceebae425b27",
   "metadata": {},
   "source": [
    "## Chaining exception\n",
    "* You can catch multiple exception as follow\n",
    "\n",
    "More info https://realpython.com/python-catch-multiple-exceptions/\n"
   ]
  },
  {
   "cell_type": "code",
   "execution_count": 3,
   "id": "b028e8b5-cf8d-47c1-933a-524d9293f481",
   "metadata": {},
   "outputs": [],
   "source": [
    "def risky_method():\n",
    "    try:\n",
    "        first = float(input(\"What is your first number? \"))\n",
    "        second = float(input(\"What is your second number? \"))\n",
    "        print(f\"{first} divided by {second} is {first / second}\")\n",
    "    except ValueError:\n",
    "        print(\"You must enter a number\")\n",
    "    except ZeroDivisionError:\n",
    "        print(\"You can't divide by zero\")"
   ]
  },
  {
   "cell_type": "code",
   "execution_count": 4,
   "id": "7b8c6d1f-6e09-42db-a67f-4eacee071c42",
   "metadata": {},
   "outputs": [
    {
     "name": "stdin",
     "output_type": "stream",
     "text": [
      "What is your first number?  10\n",
      "What is your second number?  0\n"
     ]
    },
    {
     "name": "stdout",
     "output_type": "stream",
     "text": [
      "You can't divide by zero\n"
     ]
    }
   ],
   "source": [
    "risky_method()\n"
   ]
  },
  {
   "cell_type": "code",
   "execution_count": 5,
   "id": "ae4b9e6d-ab32-46ee-af6a-f6c07b51af19",
   "metadata": {},
   "outputs": [
    {
     "name": "stdin",
     "output_type": "stream",
     "text": [
      "What is your first number?  not a number\n"
     ]
    },
    {
     "name": "stdout",
     "output_type": "stream",
     "text": [
      "You must enter a number\n"
     ]
    }
   ],
   "source": [
    "risky_method()"
   ]
  },
  {
   "cell_type": "code",
   "execution_count": 9,
   "id": "c3192b21-6fec-48f1-87b0-ef83b0b5b743",
   "metadata": {},
   "outputs": [
    {
     "name": "stdin",
     "output_type": "stream",
     "text": [
      "What is your first number?  10\n",
      "What is your second number?  0\n"
     ]
    },
    {
     "name": "stdout",
     "output_type": "stream",
     "text": [
      "Exception raised float division by zero\n"
     ]
    }
   ],
   "source": [
    "risky_method()"
   ]
  },
  {
   "cell_type": "markdown",
   "id": "f0dea6e4-c787-42d2-b963-df43e1dc84bb",
   "metadata": {},
   "source": [
    "**You can club multiple exception in one like as below** "
   ]
  },
  {
   "cell_type": "code",
   "execution_count": 8,
   "id": "ae4f2eb0-1284-4bb9-9f7b-1eb49971ded8",
   "metadata": {},
   "outputs": [],
   "source": [
    "def risky_method():\n",
    "    try:\n",
    "        first = float(input(\"What is your first number? \"))\n",
    "        second = float(input(\"What is your second number? \"))\n",
    "        print(f\"{first} divided by {second} is {first / second}\")\n",
    "    except (ValueError, ZeroDivisionError) as e:\n",
    "        print(f\"Exception raised {e}\")"
   ]
  },
  {
   "cell_type": "code",
   "execution_count": 12,
   "id": "151199e5-3520-4810-89a1-0bc15a5ef6f1",
   "metadata": {},
   "outputs": [
    {
     "name": "stdin",
     "output_type": "stream",
     "text": [
      "What is your first number?  not a number\n"
     ]
    },
    {
     "name": "stdout",
     "output_type": "stream",
     "text": [
      "Exception raised could not convert string to float: 'not a number'\n"
     ]
    }
   ],
   "source": [
    "risky_method()"
   ]
  },
  {
   "cell_type": "markdown",
   "id": "df586e71-c493-4a83-9ad8-aa48c2129a31",
   "metadata": {},
   "source": [
    "## `try-except-else` structure \n",
    "\n",
    "The `try-except` will work like as it is only difference is that if no exception is raised then else block is executed\n",
    "\n",
    "```\n",
    "try:\n",
    "    # execute block\n",
    "except:\n",
    "    # if exception handle it\n",
    "else:\n",
    "    # no exception then run it\n",
    "```"
   ]
  },
  {
   "cell_type": "code",
   "execution_count": 16,
   "id": "0c68ac0e-2bb8-4fe2-a604-d81446fef83a",
   "metadata": {},
   "outputs": [
    {
     "name": "stdout",
     "output_type": "stream",
     "text": [
      "Exception raised division by zero\n"
     ]
    }
   ],
   "source": [
    "try:\n",
    "    10/0\n",
    "except ZeroDivisionError as zde:\n",
    "    print(f\"Exception raised {zde}\")\n",
    "else:\n",
    "    print(\"No exception raised do other stuff\")\n"
   ]
  },
  {
   "cell_type": "code",
   "execution_count": 17,
   "id": "c888a54a-ecb5-40ff-a45c-fb37eab54385",
   "metadata": {},
   "outputs": [
    {
     "name": "stdout",
     "output_type": "stream",
     "text": [
      "No exception raised do other stuff\n"
     ]
    }
   ],
   "source": [
    "try:\n",
    "    10/2\n",
    "except ZeroDivisionError as zde:\n",
    "    print(f\"Exception raised {zde}\")\n",
    "else:\n",
    "    print(\"No exception raised do other stuff\")\n"
   ]
  },
  {
   "cell_type": "markdown",
   "id": "c8276917-5a2b-4f70-a80a-79910e987531",
   "metadata": {},
   "source": [
    "## `try-except-finally` structure \n",
    "\n",
    "The `finally` block as name suggest executed at the end of `try-except` block. The only difference between else and finally is that finally block will always execute not matter whether exception is raised or not \n",
    "\n",
    "```\n",
    "try:\n",
    "    # execute block\n",
    "except:\n",
    "    # if exception handle it\n",
    "else:\n",
    "    # no exception then run it\n",
    "finally:\n",
    "    # Always execute it\n",
    "```"
   ]
  },
  {
   "cell_type": "code",
   "execution_count": 19,
   "id": "38eb5544-40f4-4713-b623-c653adc44bf1",
   "metadata": {},
   "outputs": [
    {
     "name": "stdout",
     "output_type": "stream",
     "text": [
      "Exception raised division by zero\n",
      "I'm gona execute no matter what\n"
     ]
    }
   ],
   "source": [
    "# let's take same example with else block \n",
    "try:\n",
    "    10/0\n",
    "except ZeroDivisionError as zde:\n",
    "    print(f\"Exception raised {zde}\")\n",
    "else:\n",
    "    print(\"No exception raised do other stuff\")\n",
    "finally:\n",
    "    print(\"I'm gona execute no matter what\")\n",
    "    "
   ]
  },
  {
   "cell_type": "code",
   "execution_count": 20,
   "id": "f28c69a6-d92c-4787-a833-23f275aa2e6f",
   "metadata": {},
   "outputs": [
    {
     "name": "stdout",
     "output_type": "stream",
     "text": [
      "No exception raised do other stuff\n",
      "I'm gona execute no matter what\n"
     ]
    }
   ],
   "source": [
    "# let's take same example with else block \n",
    "try:\n",
    "    10/2\n",
    "except ZeroDivisionError as zde:\n",
    "    print(f\"Exception raised {zde}\")\n",
    "else:\n",
    "    print(\"No exception raised do other stuff\")\n",
    "finally:\n",
    "    print(\"I'm gona execute no matter what\")"
   ]
  },
  {
   "cell_type": "code",
   "execution_count": 23,
   "id": "9e731b36-33b5-401b-8984-1bbe1ef23bc1",
   "metadata": {},
   "outputs": [
    {
     "name": "stdout",
     "output_type": "stream",
     "text": [
      "Cleaning up, irrespective of any exceptions.\n"
     ]
    },
    {
     "ename": "ZeroDivisionError",
     "evalue": "division by zero",
     "output_type": "error",
     "traceback": [
      "\u001b[1;31m---------------------------------------------------------------------------\u001b[0m",
      "\u001b[1;31mZeroDivisionError\u001b[0m                         Traceback (most recent call last)",
      "Cell \u001b[1;32mIn[23], line 2\u001b[0m\n\u001b[0;32m      1\u001b[0m \u001b[38;5;28;01mtry\u001b[39;00m:\n\u001b[1;32m----> 2\u001b[0m     \u001b[38;5;241;43m10\u001b[39;49m\u001b[38;5;241;43m/\u001b[39;49m\u001b[38;5;241;43m0\u001b[39;49m\n\u001b[0;32m      3\u001b[0m \u001b[38;5;28;01mfinally\u001b[39;00m:\n\u001b[0;32m      4\u001b[0m     \u001b[38;5;28mprint\u001b[39m(\u001b[38;5;124m\"\u001b[39m\u001b[38;5;124mCleaning up, irrespective of any exceptions.\u001b[39m\u001b[38;5;124m\"\u001b[39m)\n",
      "\u001b[1;31mZeroDivisionError\u001b[0m: division by zero"
     ]
    }
   ],
   "source": [
    "try:\n",
    "    10/0\n",
    "finally:\n",
    "    print(\"Cleaning up, irrespective of any exceptions.\")"
   ]
  },
  {
   "cell_type": "markdown",
   "id": "9c7d8793-ae48-4033-803f-ccf546ea7214",
   "metadata": {},
   "source": [
    "## Raising an Exception in Python\n",
    " **Sometimes you want to stop program for some condition and want to raise exception in that case python provides `raise` keyword** "
   ]
  },
  {
   "cell_type": "code",
   "execution_count": 24,
   "id": "1c8c482c-b95c-4ee8-a52f-c0baec113091",
   "metadata": {},
   "outputs": [
    {
     "ename": "Exception",
     "evalue": "The number should not exceed 5. (number=10)",
     "output_type": "error",
     "traceback": [
      "\u001b[1;31m---------------------------------------------------------------------------\u001b[0m",
      "\u001b[1;31mException\u001b[0m                                 Traceback (most recent call last)",
      "Cell \u001b[1;32mIn[24], line 3\u001b[0m\n\u001b[0;32m      1\u001b[0m number \u001b[38;5;241m=\u001b[39m \u001b[38;5;241m10\u001b[39m\n\u001b[0;32m      2\u001b[0m \u001b[38;5;28;01mif\u001b[39;00m number \u001b[38;5;241m>\u001b[39m \u001b[38;5;241m5\u001b[39m:\n\u001b[1;32m----> 3\u001b[0m     \u001b[38;5;28;01mraise\u001b[39;00m \u001b[38;5;167;01mException\u001b[39;00m(\u001b[38;5;124mf\u001b[39m\u001b[38;5;124m\"\u001b[39m\u001b[38;5;124mThe number should not exceed 5. (\u001b[39m\u001b[38;5;132;01m{\u001b[39;00mnumber\u001b[38;5;132;01m=}\u001b[39;00m\u001b[38;5;124m)\u001b[39m\u001b[38;5;124m\"\u001b[39m)\n\u001b[0;32m      4\u001b[0m \u001b[38;5;28mprint\u001b[39m(number)\n",
      "\u001b[1;31mException\u001b[0m: The number should not exceed 5. (number=10)"
     ]
    }
   ],
   "source": [
    "number = 10\n",
    "if number > 5:\n",
    "    raise Exception(f\"The number should not exceed 5. ({number=})\")\n",
    "print(number)"
   ]
  },
  {
   "cell_type": "markdown",
   "id": "8d383a84-6079-4c2c-b21a-0149e40efa51",
   "metadata": {},
   "source": [
    "## Creating Custom Exceptions in Python\n",
    "* you can create your own class to raise custom exception "
   ]
  },
  {
   "cell_type": "code",
   "execution_count": 25,
   "id": "5887252b-ff37-4eef-8480-c64a3a8ef450",
   "metadata": {},
   "outputs": [],
   "source": [
    "class LargeNumberException(Exception):\n",
    "    pass"
   ]
  },
  {
   "cell_type": "code",
   "execution_count": 26,
   "id": "0a9755be-472f-48cc-a622-84af1527bb48",
   "metadata": {},
   "outputs": [
    {
     "ename": "LargeNumberException",
     "evalue": "The number should not exceed 5. (number=10)",
     "output_type": "error",
     "traceback": [
      "\u001b[1;31m---------------------------------------------------------------------------\u001b[0m",
      "\u001b[1;31mLargeNumberException\u001b[0m                      Traceback (most recent call last)",
      "Cell \u001b[1;32mIn[26], line 3\u001b[0m\n\u001b[0;32m      1\u001b[0m number \u001b[38;5;241m=\u001b[39m \u001b[38;5;241m10\u001b[39m\n\u001b[0;32m      2\u001b[0m \u001b[38;5;28;01mif\u001b[39;00m number \u001b[38;5;241m>\u001b[39m \u001b[38;5;241m5\u001b[39m:\n\u001b[1;32m----> 3\u001b[0m     \u001b[38;5;28;01mraise\u001b[39;00m LargeNumberException(\u001b[38;5;124mf\u001b[39m\u001b[38;5;124m\"\u001b[39m\u001b[38;5;124mThe number should not exceed 5. (\u001b[39m\u001b[38;5;132;01m{\u001b[39;00mnumber\u001b[38;5;132;01m=}\u001b[39;00m\u001b[38;5;124m)\u001b[39m\u001b[38;5;124m\"\u001b[39m)\n\u001b[0;32m      4\u001b[0m \u001b[38;5;28mprint\u001b[39m(number)\n",
      "\u001b[1;31mLargeNumberException\u001b[0m: The number should not exceed 5. (number=10)"
     ]
    }
   ],
   "source": [
    "number = 10\n",
    "if number > 5:\n",
    "    raise LargeNumberException(f\"The number should not exceed 5. ({number=})\")\n",
    "print(number)"
   ]
  },
  {
   "cell_type": "code",
   "execution_count": 27,
   "id": "63a1ce17-2883-4ed7-acf3-f2d40e95ba31",
   "metadata": {},
   "outputs": [],
   "source": [
    "# Adding body to our custom class\n",
    "class LargeNumberException(Exception):\n",
    "    def __init__(self, number, message=\"The number should not exceed given limit\"):\n",
    "        self.number = number\n",
    "        self.message = message\n",
    "        super().__init__(self.message)"
   ]
  },
  {
   "cell_type": "code",
   "execution_count": 29,
   "id": "2863ef11-2d2c-4e60-ae23-d3cf2687faec",
   "metadata": {},
   "outputs": [],
   "source": [
    "def check_number(number):\n",
    "    if number > 5:\n",
    "        raise LargeNumberException(number)\n",
    "    return number\n"
   ]
  },
  {
   "cell_type": "code",
   "execution_count": 33,
   "id": "b7f718e5-0dbb-4816-a58a-cb40352c916a",
   "metadata": {},
   "outputs": [
    {
     "name": "stdout",
     "output_type": "stream",
     "text": [
      "Exception raised The number should not exceed given limit\n"
     ]
    }
   ],
   "source": [
    "try:\n",
    "    check_number(10)\n",
    "except LargeNumberException as lne:\n",
    "    print(f\"Exception raised {lne}\")"
   ]
  },
  {
   "cell_type": "code",
   "execution_count": null,
   "id": "d3faaadd-5e1c-46e3-8c0a-0714e858ae39",
   "metadata": {},
   "outputs": [],
   "source": []
  }
 ],
 "metadata": {
  "kernelspec": {
   "display_name": "Python 3 (ipykernel)",
   "language": "python",
   "name": "python3"
  },
  "language_info": {
   "codemirror_mode": {
    "name": "ipython",
    "version": 3
   },
   "file_extension": ".py",
   "mimetype": "text/x-python",
   "name": "python",
   "nbconvert_exporter": "python",
   "pygments_lexer": "ipython3",
   "version": "3.12.1"
  }
 },
 "nbformat": 4,
 "nbformat_minor": 5
}
