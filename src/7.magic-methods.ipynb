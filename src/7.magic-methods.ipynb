{
 "cells": [
  {
   "cell_type": "markdown",
   "id": "ce5a3705-be9f-4fab-9913-1abb1570f8ca",
   "metadata": {},
   "source": [
    "# Magic or Dunder Methods\n",
    "\n",
    "Magic methods in Python are the special methods that start and end with the `double underscores`."
   ]
  },
  {
   "cell_type": "markdown",
   "id": "c534f4d2-0b7e-457b-8cf2-7bf0f7347cf8",
   "metadata": {},
   "source": [
    "Built-in classes in Python define many magic methods. Use the `dir()` function to see the number of magic methods inherited by a class. For example, the following lists all the attributes and methods defined in the `int` class."
   ]
  },
  {
   "cell_type": "code",
   "execution_count": 3,
   "id": "aa44bd95-937b-44a3-8496-9049ef7b6f15",
   "metadata": {},
   "outputs": [
    {
     "name": "stdout",
     "output_type": "stream",
     "text": [
      "['__abs__', '__add__', '__and__', '__bool__', '__ceil__', '__class__', '__delattr__', '__dir__', '__divmod__', '__doc__', '__eq__', '__float__', '__floor__', '__floordiv__', '__format__', '__ge__', '__getattribute__', '__getnewargs__', '__getstate__', '__gt__', '__hash__', '__index__', '__init__', '__init_subclass__', '__int__', '__invert__', '__le__', '__lshift__', '__lt__', '__mod__', '__mul__', '__ne__', '__neg__', '__new__', '__or__', '__pos__', '__pow__', '__radd__', '__rand__', '__rdivmod__', '__reduce__', '__reduce_ex__', '__repr__', '__rfloordiv__', '__rlshift__', '__rmod__', '__rmul__', '__ror__', '__round__', '__rpow__', '__rrshift__', '__rshift__', '__rsub__', '__rtruediv__', '__rxor__', '__setattr__', '__sizeof__', '__str__', '__sub__', '__subclasshook__', '__truediv__', '__trunc__', '__xor__', 'as_integer_ratio', 'bit_count', 'bit_length', 'conjugate', 'denominator', 'from_bytes', 'imag', 'is_integer', 'numerator', 'real', 'to_bytes']\n"
     ]
    }
   ],
   "source": [
    "print(dir(int))"
   ]
  },
  {
   "cell_type": "code",
   "execution_count": 4,
   "id": "69f3b1bf-9710-4869-aae0-72ebc8c0154d",
   "metadata": {},
   "outputs": [
    {
     "name": "stdout",
     "output_type": "stream",
     "text": [
      "['__class__', '__delattr__', '__dir__', '__doc__', '__eq__', '__format__', '__ge__', '__getattribute__', '__getstate__', '__gt__', '__hash__', '__init__', '__init_subclass__', '__le__', '__lt__', '__ne__', '__new__', '__reduce__', '__reduce_ex__', '__repr__', '__setattr__', '__sizeof__', '__str__', '__subclasshook__']\n"
     ]
    }
   ],
   "source": [
    "# you can check dunder method of other classes as well\n",
    "print(dir(object))"
   ]
  },
  {
   "cell_type": "code",
   "execution_count": 5,
   "id": "4dabe604-6c35-4548-9612-0d7ab3188307",
   "metadata": {},
   "outputs": [
    {
     "name": "stdout",
     "output_type": "stream",
     "text": [
      "15\n"
     ]
    }
   ],
   "source": [
    "# using one of the magic method from int class\n",
    "num=10\n",
    "res = num.__add__(5) \n",
    "print(res)"
   ]
  },
  {
   "cell_type": "markdown",
   "id": "88c593ac-d094-4678-bfff-c396f9e657a9",
   "metadata": {},
   "source": [
    "## `__str__() method`\n",
    "\n",
    "Another useful magic method is `__str__()`. It is overridden to return a printable string representation of any user defined class. We have seen str() built-in function which returns a string from the object parameter. For example, `str(12)` returns `'12'`. When invoked, it calls the `__str__()` method in the int class."
   ]
  },
  {
   "cell_type": "code",
   "execution_count": 6,
   "id": "72bde136-b4ae-48fb-854c-e38e0250bb0f",
   "metadata": {},
   "outputs": [
    {
     "name": "stdout",
     "output_type": "stream",
     "text": [
      "<class 'str'>\n"
     ]
    }
   ],
   "source": [
    "num=12\n",
    "val = int.__str__(num)\n",
    "print(type(val))"
   ]
  },
  {
   "cell_type": "code",
   "execution_count": 9,
   "id": "b50d9c8e-a111-4d5b-8853-77cab98f67cc",
   "metadata": {},
   "outputs": [
    {
     "name": "stdout",
     "output_type": "stream",
     "text": [
      "<class 'str'>\n"
     ]
    }
   ],
   "source": [
    "#this is equivelent to above codebase\n",
    "val = str(12)\n",
    "print(type(val))"
   ]
  },
  {
   "cell_type": "markdown",
   "id": "72c4c49f-f16b-479f-9abb-bb1814178a1d",
   "metadata": {},
   "source": [
    "Let override magic methods from class"
   ]
  },
  {
   "cell_type": "code",
   "execution_count": 13,
   "id": "4915521c-b79c-420b-96ab-676d55bf7de4",
   "metadata": {},
   "outputs": [
    {
     "name": "stdout",
     "output_type": "stream",
     "text": [
      "name=bob, salary=₹10000\n"
     ]
    }
   ],
   "source": [
    "class Employee:\n",
    "  def __init__(self, name, salary):\n",
    "    self.name=name\n",
    "    self.salary=salary\n",
    "  def __str__(self):\n",
    "    return 'name='+self.name+', salary=₹'+str(self.salary)\n",
    "    \n",
    "e1 = Employee('bob', 10000)\n",
    "print(e1)"
   ]
  },
  {
   "cell_type": "markdown",
   "id": "50accff8-7177-4cf2-b3a5-157c1400aff0",
   "metadata": {},
   "source": [
    "**Now consider above class and lets compare there objects**"
   ]
  },
  {
   "cell_type": "code",
   "execution_count": 14,
   "id": "7eb090f7-c539-4516-aff3-68d34b8ea67c",
   "metadata": {},
   "outputs": [
    {
     "name": "stdout",
     "output_type": "stream",
     "text": [
      "False\n"
     ]
    }
   ],
   "source": [
    "e2 = Employee('bob', 10000)\n",
    "e3 = Employee('bob', 10000)\n",
    "\n",
    "print(e2==e3)"
   ]
  },
  {
   "cell_type": "code",
   "execution_count": 16,
   "id": "456f670c-0b3a-4fb5-aebe-d6402f0ea3b2",
   "metadata": {},
   "outputs": [],
   "source": [
    "# now modify our class to implement equality method\n",
    "\n",
    "class Employee:\n",
    "  def __init__(self, name, salary):\n",
    "    self.name=name\n",
    "    self.salary=salary\n",
    "  def __str__(self):\n",
    "    return 'name='+self.name+', salary=₹'+str(self.salary)\n",
    "\n",
    "  def __eq__(self, other):\n",
    "      if not isinstance(other, Employee):\n",
    "          return False\n",
    "      \n",
    "      return (self.name == other.name and self.salary == other.salary)\n"
   ]
  },
  {
   "cell_type": "code",
   "execution_count": 17,
   "id": "4c9cbd4d-384c-4b43-9942-d51fa3eb9aac",
   "metadata": {},
   "outputs": [
    {
     "name": "stdout",
     "output_type": "stream",
     "text": [
      "True\n"
     ]
    }
   ],
   "source": [
    "e2 = Employee('bob', 10000)\n",
    "e3 = Employee('bob', 10000)\n",
    "\n",
    "print(e2==e3)"
   ]
  },
  {
   "cell_type": "code",
   "execution_count": 18,
   "id": "64fedf91-cd8d-409a-b9a2-97dfe74af847",
   "metadata": {},
   "outputs": [
    {
     "data": {
      "text/plain": [
       "False"
      ]
     },
     "execution_count": 18,
     "metadata": {},
     "output_type": "execute_result"
    }
   ],
   "source": [
    "e2 == 10"
   ]
  },
  {
   "cell_type": "code",
   "execution_count": null,
   "id": "8ee429f0-faae-4018-8c3a-621ba3e518fa",
   "metadata": {},
   "outputs": [],
   "source": []
  }
 ],
 "metadata": {
  "kernelspec": {
   "display_name": "Python 3 (ipykernel)",
   "language": "python",
   "name": "python3"
  },
  "language_info": {
   "codemirror_mode": {
    "name": "ipython",
    "version": 3
   },
   "file_extension": ".py",
   "mimetype": "text/x-python",
   "name": "python",
   "nbconvert_exporter": "python",
   "pygments_lexer": "ipython3",
   "version": "3.12.1"
  }
 },
 "nbformat": 4,
 "nbformat_minor": 5
}
