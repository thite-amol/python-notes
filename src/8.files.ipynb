{
 "cells": [
  {
   "cell_type": "markdown",
   "id": "92c64fd1-34b9-4296-9e12-e4b70076110b",
   "metadata": {},
   "source": [
    "# Files\n",
    "Reading and writing files."
   ]
  },
  {
   "cell_type": "markdown",
   "id": "438f9340-db9c-4f09-88d3-0b0fc4539cd9",
   "metadata": {},
   "source": [
    "| Mode    | Description        |\n",
    "| --------| ------------------ |\n",
    "| r       |for reading – The file pointer is placed at the beginning of the file|\n",
    "| r+      |Opens a file for both reading and writing. The file pointer will be at the beginning of the file|\n",
    "| w       |Opens a file for writing only. Overwrites the file if the file exists. If the file does not exist, create a new file for writing.|\n",
    "| w+      |Opens a file for both writing and reading. Overwrites the existing file if the file exists. If the file does not exist, it creates a new file for reading and writing|\n",
    "| rb      | Opens a file for reading only in binary format. The file pointer is placed at the beginning of the file.|\n",
    "| rb+     |Opens a file for both reading and writing in binary format|\n",
    "| wb+     |Opens a file for both writing and reading in binary format. Overwrites the existing file if the file exists. If the file does not exist, it creates a new file for reading and writing.|\n",
    "| a       |Opens a file for appending. The file pointer is at the end of the file if the file exists. That is, the file is in the append mode. If the file does not exist, it creates a new file for writing.|\n",
    "| ab      |Opens a file for appending in binary format. The file pointer is at the end of the file if the file exists. That is, the file is in the append mode. If the file does not exist, it creates a new file for writing.|\n",
    "| a+      |Opens a file for both appending and reading. The file pointer is at the end of the file if the file exists. The file opens in the append mode. If the file does not exist, it creates a new file for reading and writing.|\n",
    "| ab+     | Opens a file for both appending and reading in binary format. The file pointer is at the end of the file if the file exists. The file opens in the append mode. If the file does not exist, it creates a new file for reading and writing.|\n",
    "| x       |open for exclusive creation, failing if the file already exists (Python 3)|"
   ]
  },
  {
   "cell_type": "markdown",
   "id": "30c2bc9d-b54a-4909-a0e1-a3524482bf77",
   "metadata": {},
   "source": [
    "## Working with paths"
   ]
  },
  {
   "cell_type": "code",
   "execution_count": 43,
   "id": "13b862cc-83cc-4c56-87f7-50602332bb91",
   "metadata": {},
   "outputs": [],
   "source": [
    "from pathlib import Path\n",
    "\n",
    "current_file = Path(\"files.ipynb\").resolve()\n",
    "print(f\"current file: {current_file}\")\n",
    "# Note: in .py files you can get the path of current file by Path(__file__)\n",
    "\n",
    "current_dir = current_file.parent\n",
    "print(f\"current directory: {current_dir}\")\n",
    "\n",
    "file_dir = current_dir / \"files\"\n",
    "print(f\"file directory: {file_dir}\")"
   ]
  },
  {
   "cell_type": "code",
   "execution_count": 14,
   "id": "cf04f717-79c6-4ae9-8d20-206d2a12c2e8",
   "metadata": {},
   "outputs": [
    {
     "name": "stdout",
     "output_type": "stream",
     "text": [
      "exists: True\n",
      "is file: False\n",
      "is directory: True\n"
     ]
    }
   ],
   "source": [
    "print(f\"exists: {file_dir.exists()}\")\n",
    "print(f\"is file: {file_dir.is_file()}\")\n",
    "print(f\"is directory: {file_dir.is_dir()}\")"
   ]
  },
  {
   "cell_type": "markdown",
   "id": "06ec6c9a-45b1-4332-8987-88778279bbb5",
   "metadata": {},
   "source": [
    "## Reading files"
   ]
  },
  {
   "cell_type": "code",
   "execution_count": 8,
   "id": "39bc4d02-1a06-47d2-ab29-911b6c297b10",
   "metadata": {},
   "outputs": [
    {
     "name": "stdout",
     "output_type": "stream",
     "text": [
      "Utilitatis causa amicitia est quaesita.\n",
      "Lorem ipsum dolor sit amet, consectetur adipiscing elit. Collatio igitur ista te nihil iuvat. Honesta oratio, Socratica, Platonis etiam. Primum in nostrane potestate est, quid meminerimus? Duo Reges: constructio interrete. Quid, si etiam iucunda memoria est praeteritorum malorum? Si quidem, inquit, tollerem, sed relinquo. An nisi populari fama?\n",
      "\n",
      "Quamquam id quidem licebit iis existimare, qui legerint. Summum a vobis bonum voluptas dicitur. At hoc in eo M. Refert tamen, quo modo. Quid sequatur, quid repugnet, vident. Iam id ipsum absurdum, maximum malum neglegi.\n"
     ]
    }
   ],
   "source": [
    "file_path = file_dir / \"sample1.txt\"\n",
    "fp = open(file_path)\n",
    "\n",
    "print(fp.read())\n",
    "fp.close()"
   ]
  },
  {
   "cell_type": "markdown",
   "id": "2fbbe37d-470f-4b06-99df-4cd9cfc06c0b",
   "metadata": {},
   "source": [
    "## Reading file with context manager\n",
    "\n",
    "* Resource management is most important thing when we are working with files\n",
    "* File operations involves I/O devices (file handlers) and os have limites resources so we have to close file handlers\n",
    "* We can achieve this by using `try-except` block or with the `context managers`"
   ]
  },
  {
   "cell_type": "code",
   "execution_count": 10,
   "id": "2816d8d2-0c9b-4436-bd03-84b599d17cac",
   "metadata": {},
   "outputs": [
    {
     "ename": "OSError",
     "evalue": "[Errno 24] Too many open files: 'file-8189.txt'",
     "output_type": "error",
     "traceback": [
      "\u001b[1;31m---------------------------------------------------------------------------\u001b[0m",
      "\u001b[1;31mOSError\u001b[0m                                   Traceback (most recent call last)",
      "Cell \u001b[1;32mIn[10], line 2\u001b[0m\n\u001b[0;32m      1\u001b[0m \u001b[38;5;66;03m# opening too many files\u001b[39;00m\n\u001b[1;32m----> 2\u001b[0m files \u001b[38;5;241m=\u001b[39m [\u001b[38;5;28;43mopen\u001b[39;49m\u001b[43m(\u001b[49m\u001b[38;5;124;43mf\u001b[39;49m\u001b[38;5;124;43m\"\u001b[39;49m\u001b[38;5;124;43mfile-\u001b[39;49m\u001b[38;5;132;43;01m{\u001b[39;49;00m\u001b[43mn\u001b[49m\u001b[38;5;132;43;01m}\u001b[39;49;00m\u001b[38;5;124;43m.txt\u001b[39;49m\u001b[38;5;124;43m\"\u001b[39;49m\u001b[43m,\u001b[49m\u001b[43m \u001b[49m\u001b[43mmode\u001b[49m\u001b[38;5;241;43m=\u001b[39;49m\u001b[38;5;124;43m\"\u001b[39;49m\u001b[38;5;124;43mw\u001b[39;49m\u001b[38;5;124;43m\"\u001b[39;49m\u001b[43m)\u001b[49m \u001b[38;5;28;01mfor\u001b[39;00m n \u001b[38;5;129;01min\u001b[39;00m \u001b[38;5;28mrange\u001b[39m(\u001b[38;5;241m10_000\u001b[39m)]\n",
      "File \u001b[1;32m~\\Documents\\git\\python-notes\\env\\Lib\\site-packages\\IPython\\core\\interactiveshell.py:324\u001b[0m, in \u001b[0;36m_modified_open\u001b[1;34m(file, *args, **kwargs)\u001b[0m\n\u001b[0;32m    317\u001b[0m \u001b[38;5;28;01mif\u001b[39;00m file \u001b[38;5;129;01min\u001b[39;00m {\u001b[38;5;241m0\u001b[39m, \u001b[38;5;241m1\u001b[39m, \u001b[38;5;241m2\u001b[39m}:\n\u001b[0;32m    318\u001b[0m     \u001b[38;5;28;01mraise\u001b[39;00m \u001b[38;5;167;01mValueError\u001b[39;00m(\n\u001b[0;32m    319\u001b[0m         \u001b[38;5;124mf\u001b[39m\u001b[38;5;124m\"\u001b[39m\u001b[38;5;124mIPython won\u001b[39m\u001b[38;5;124m'\u001b[39m\u001b[38;5;124mt let you open fd=\u001b[39m\u001b[38;5;132;01m{\u001b[39;00mfile\u001b[38;5;132;01m}\u001b[39;00m\u001b[38;5;124m by default \u001b[39m\u001b[38;5;124m\"\u001b[39m\n\u001b[0;32m    320\u001b[0m         \u001b[38;5;124m\"\u001b[39m\u001b[38;5;124mas it is likely to crash IPython. If you know what you are doing, \u001b[39m\u001b[38;5;124m\"\u001b[39m\n\u001b[0;32m    321\u001b[0m         \u001b[38;5;124m\"\u001b[39m\u001b[38;5;124myou can use builtins\u001b[39m\u001b[38;5;124m'\u001b[39m\u001b[38;5;124m open.\u001b[39m\u001b[38;5;124m\"\u001b[39m\n\u001b[0;32m    322\u001b[0m     )\n\u001b[1;32m--> 324\u001b[0m \u001b[38;5;28;01mreturn\u001b[39;00m \u001b[43mio_open\u001b[49m\u001b[43m(\u001b[49m\u001b[43mfile\u001b[49m\u001b[43m,\u001b[49m\u001b[43m \u001b[49m\u001b[38;5;241;43m*\u001b[39;49m\u001b[43margs\u001b[49m\u001b[43m,\u001b[49m\u001b[43m \u001b[49m\u001b[38;5;241;43m*\u001b[39;49m\u001b[38;5;241;43m*\u001b[39;49m\u001b[43mkwargs\u001b[49m\u001b[43m)\u001b[49m\n",
      "\u001b[1;31mOSError\u001b[0m: [Errno 24] Too many open files: 'file-8189.txt'"
     ]
    }
   ],
   "source": [
    "# opening too many files\n",
    "# execute this with caution this will create too many files\n",
    "files = [open(f\"file-{n}.txt\", mode=\"w\") for n in range(10_000)]"
   ]
  },
  {
   "cell_type": "markdown",
   "id": "686c8418-2c9d-4426-8c8b-b91a41fc4d4e",
   "metadata": {},
   "source": [
    "### The `try … finally` Approach"
   ]
  },
  {
   "cell_type": "code",
   "execution_count": 44,
   "id": "6dd58524-fc42-4db3-be57-9f43111908e1",
   "metadata": {},
   "outputs": [],
   "source": [
    "file_path = file_dir / \"sample2.txt\"\n",
    "file = open(file_path, \"w\")\n",
    "\n",
    "try:\n",
    "    file.write(\"Hello, World!\")\n",
    "finally:\n",
    "    # Make sure to close the file after using it\n",
    "    file.close()"
   ]
  },
  {
   "cell_type": "code",
   "execution_count": null,
   "id": "09c0554b-cd5a-4c9f-9dfc-3cdb73ff3ca0",
   "metadata": {},
   "outputs": [],
   "source": []
  },
  {
   "cell_type": "code",
   "execution_count": 21,
   "id": "1734f155-cb80-4889-9d3c-7f18d58aead9",
   "metadata": {},
   "outputs": [],
   "source": [
    "# Executing out above example with this approach \n",
    "file_dir = current_dir / \"files/garbage\"\n",
    "for n in range(10000):\n",
    "    try:\n",
    "        file_path = file_dir / f\"file-{n}.txt\"\n",
    "        fp = open(file_path, mode=\"w\")\n",
    "    finally:\n",
    "        fp.close()\n"
   ]
  },
  {
   "cell_type": "markdown",
   "id": "2916af69-e094-4030-841d-3af4f984d669",
   "metadata": {},
   "source": [
    "### The `with` Statement Approach\n",
    "\n",
    "* The Python `with` statement creates a `runtime context` that allows you to run a group of statements under the control of a context manager.\n",
    "* Compared to traditional `try … finally` constructs, the with statement can make your code clearer, safer, and reusable.\n",
    "* Many classes in the standard library support the `with` statement. A classic example of this is `open()`, which allows you to work with file objects using `with`.\n"
   ]
  },
  {
   "cell_type": "code",
   "execution_count": 29,
   "id": "b0cce871-b7a8-4e3e-8b8e-a2d93b8f1b65",
   "metadata": {},
   "outputs": [
    {
     "name": "stdout",
     "output_type": "stream",
     "text": [
      "Utilitatis causa amicitia est quaesita.\n",
      "Lorem ipsum dolor sit amet, consectetur adipiscing elit. Collatio igitur ista te nihil iuvat. Honesta oratio, Socratica, Platonis etiam. Primum in nostrane potestate est, quid meminerimus? Duo Reges: constructio interrete. Quid, si etiam iucunda memoria est praeteritorum malorum? Si quidem, inquit, tollerem, sed relinquo. An nisi populari fama?\n",
      "\n",
      "Quamquam id quidem licebit iis existimare, qui legerint. Summum a vobis bonum voluptas dicitur. At hoc in eo M. Refert tamen, quo modo. Quid sequatur, quid repugnet, vident. Iam id ipsum absurdum, maximum malum neglegi.\n"
     ]
    }
   ],
   "source": [
    "file_path = file_dir / \"sample1.txt\"\n",
    "\n",
    "with open(file_path, \"r\") as fp:\n",
    "    print(fp.read())\n"
   ]
  },
  {
   "cell_type": "markdown",
   "id": "c647a559-acf4-40ef-bc9f-d219049d371f",
   "metadata": {},
   "source": [
    "## Deleting file\n"
   ]
  },
  {
   "cell_type": "markdown",
   "id": "fd3ede24-9f59-4f1a-8fcb-30209f0afcec",
   "metadata": {},
   "source": [
    "### 1. using `os.delete()`"
   ]
  },
  {
   "cell_type": "code",
   "execution_count": 38,
   "id": "fdeffe07-f97d-4465-8e60-2797fbfc3867",
   "metadata": {},
   "outputs": [],
   "source": [
    "import os \n",
    "file_path = file_dir / \"sample2.txt\"\n",
    "\n",
    "if (os.path.exists(file_path)):\n",
    "    os.remove(file_path)\n"
   ]
  },
  {
   "cell_type": "markdown",
   "id": "84358a2d-563a-407e-80c2-5845a02f7feb",
   "metadata": {},
   "source": [
    "### 2. using `pathlib.Path.unlink()`"
   ]
  },
  {
   "cell_type": "code",
   "execution_count": 42,
   "id": "0e2359f5-2a0d-44e4-b858-3fdab5605ceb",
   "metadata": {},
   "outputs": [],
   "source": [
    "file_path = file_dir / \"sample2.txt\"\n",
    "\n",
    "if file_path.exists():\n",
    "    file_path.unlink()\n",
    "    print(\"file deleted\")"
   ]
  },
  {
   "cell_type": "code",
   "execution_count": null,
   "id": "603dcf9f-884f-4f75-ad5b-b2fbaf6dafbc",
   "metadata": {},
   "outputs": [],
   "source": []
  }
 ],
 "metadata": {
  "kernelspec": {
   "display_name": "Python 3 (ipykernel)",
   "language": "python",
   "name": "python3"
  },
  "language_info": {
   "codemirror_mode": {
    "name": "ipython",
    "version": 3
   },
   "file_extension": ".py",
   "mimetype": "text/x-python",
   "name": "python",
   "nbconvert_exporter": "python",
   "pygments_lexer": "ipython3",
   "version": "3.12.1"
  }
 },
 "nbformat": 4,
 "nbformat_minor": 5
}
