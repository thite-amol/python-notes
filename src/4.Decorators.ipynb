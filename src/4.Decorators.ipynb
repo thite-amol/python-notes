{
 "cells": [
  {
   "cell_type": "markdown",
   "id": "35b229a3-7be5-458a-a56e-1ad345004f21",
   "metadata": {},
   "source": [
    "### First-Class Objects\n",
    "\n",
    "In functional programming, you work almost entirely with pure functions that don’t have side effects. While not a purely functional language, Python supports many functional programming concepts, including treating functions as first-class objects.\n",
    "\n",
    "This means that functions can be passed around and used as arguments, just like any other object like str, int, float, list, and so on. Consider the following three functions:"
   ]
  },
  {
   "cell_type": "code",
   "execution_count": 1,
   "id": "dce85960-e6ab-4ef5-98f5-c710f3f19d31",
   "metadata": {},
   "outputs": [],
   "source": [
    "def say_hello(name):\n",
    "    return f\"Hello {name}\"\n",
    "\n",
    "def be_awesome(name):\n",
    "    return f\"Yo {name}, together we're the awesomest!\"\n",
    "\n",
    "def greet_bob(greeter_func):\n",
    "    return greeter_func(\"Bob\")"
   ]
  },
  {
   "cell_type": "code",
   "execution_count": 6,
   "id": "0afa7f34-cf30-41c2-903e-72daf3fa66b1",
   "metadata": {},
   "outputs": [
    {
     "name": "stdout",
     "output_type": "stream",
     "text": [
      "Hello Bob\n",
      "Yo Bob, together we're the awesomest!\n"
     ]
    }
   ],
   "source": [
    "print(greet_bob(say_hello))\n",
    "print(greet_bob(be_awesome))"
   ]
  },
  {
   "cell_type": "markdown",
   "id": "e4aa5217-9a1c-453c-9fd2-34ee843854d7",
   "metadata": {},
   "source": [
    "### Inner functions\n"
   ]
  },
  {
   "cell_type": "code",
   "execution_count": 7,
   "id": "62dca2d2-9a03-4ea2-9e91-395230025be2",
   "metadata": {},
   "outputs": [],
   "source": [
    "def parent():\n",
    "    print(\"Printing from parent()\")\n",
    "\n",
    "    def first_child():\n",
    "        print(\"Printing from first_child()\")\n",
    "\n",
    "    def second_child():\n",
    "        print(\"Printing from second_child()\")\n",
    "\n",
    "    second_child()\n",
    "    first_child()"
   ]
  },
  {
   "cell_type": "code",
   "execution_count": 8,
   "id": "f9d164dd-79cd-4691-9d03-4021f7f6532a",
   "metadata": {},
   "outputs": [
    {
     "name": "stdout",
     "output_type": "stream",
     "text": [
      "Printing from parent()\n",
      "Printing from second_child()\n",
      "Printing from first_child()\n"
     ]
    }
   ],
   "source": [
    "parent()"
   ]
  },
  {
   "cell_type": "markdown",
   "id": "d42f0856-2ad9-4281-8a76-bb7044aeb3df",
   "metadata": {},
   "source": [
    "### Simple Decorators in Python"
   ]
  },
  {
   "cell_type": "code",
   "execution_count": 17,
   "id": "fb901547-df5a-48c5-86e8-3885d8559da0",
   "metadata": {},
   "outputs": [],
   "source": [
    "def wrapper(func):\n",
    "    def inner():\n",
    "        print(\"inner function called\")\n",
    "        func()\n",
    "    return inner\n",
    "\n",
    "def say_hello():\n",
    "    print(\"main function called\")"
   ]
  },
  {
   "cell_type": "code",
   "execution_count": 18,
   "id": "779459b4-1cf1-4d67-8d30-bce869e72f5a",
   "metadata": {},
   "outputs": [],
   "source": [
    "dec = wrapper(say_hello)"
   ]
  },
  {
   "cell_type": "code",
   "execution_count": 19,
   "id": "3833d984-8732-4b45-b0de-5697ffb3b28c",
   "metadata": {},
   "outputs": [
    {
     "name": "stdout",
     "output_type": "stream",
     "text": [
      "inner function called\n",
      "main function called\n"
     ]
    }
   ],
   "source": [
    "dec()"
   ]
  },
  {
   "cell_type": "code",
   "execution_count": 20,
   "id": "bfb7fabf-bfd7-41cd-8448-253b2028cad3",
   "metadata": {},
   "outputs": [],
   "source": [
    "# calling decorator in pythonic way\n",
    "@wrapper\n",
    "def say_hello():\n",
    "    print(\"hope you are doing well\")"
   ]
  },
  {
   "cell_type": "code",
   "execution_count": 21,
   "id": "ed984d19-482e-4ec9-95fa-9b18d946b824",
   "metadata": {},
   "outputs": [
    {
     "name": "stdout",
     "output_type": "stream",
     "text": [
      "inner function called\n",
      "main function called\n"
     ]
    }
   ],
   "source": [
    "say_hello()"
   ]
  },
  {
   "cell_type": "markdown",
   "id": "fc6bbb69-50b7-4b40-9932-e55f80784756",
   "metadata": {},
   "source": [
    "### Decorating Functions With Arguments\n"
   ]
  },
  {
   "cell_type": "code",
   "execution_count": 28,
   "id": "79556787-b6bf-4332-bb76-75707fd9ed50",
   "metadata": {},
   "outputs": [],
   "source": [
    "def wrapper(func):\n",
    "    def inner(*args, **kwargs):\n",
    "        print(f\"hello {args[0]}\")\n",
    "        func(*args, **kwargs)\n",
    "    return inner"
   ]
  },
  {
   "cell_type": "code",
   "execution_count": 29,
   "id": "791b1551-680d-42a2-a9f4-3a3d9e87af52",
   "metadata": {},
   "outputs": [],
   "source": [
    "@wrapper\n",
    "def say_hello(name):\n",
    "    print(f\"hope you are doing well {name}\")"
   ]
  },
  {
   "cell_type": "code",
   "execution_count": 30,
   "id": "aaf79b8f-5cca-42bd-ad8c-4032961a5519",
   "metadata": {},
   "outputs": [
    {
     "name": "stdout",
     "output_type": "stream",
     "text": [
      "hello amol\n",
      "hope you are doing well amol\n"
     ]
    }
   ],
   "source": [
    "say_hello(\"amol\")"
   ]
  },
  {
   "cell_type": "markdown",
   "id": "beb65f1d-faec-479f-a2c6-868bfcc21886",
   "metadata": {},
   "source": [
    "#### Preserve identity of function\n",
    "* In python funciton have identity if we use decorators in that case function lost his identity\n",
    "* To preserve it's identity we have to use funtools wrap method "
   ]
  },
  {
   "cell_type": "code",
   "execution_count": 42,
   "id": "3a56057d-f8e0-4f2f-9dc5-38e906fa626a",
   "metadata": {},
   "outputs": [
    {
     "name": "stdout",
     "output_type": "stream",
     "text": [
      "<function wrapper.<locals>.inner at 0x000001D97792F600>\n",
      "inner\n"
     ]
    }
   ],
   "source": [
    "# not original identity\n",
    "print(say_hello)\n",
    "\n",
    "# not original name\n",
    "print(say_hello.__name__)\n"
   ]
  },
  {
   "cell_type": "markdown",
   "id": "35da73b0-2c13-4655-a3d2-d9140f94d26d",
   "metadata": {},
   "source": [
    "**Use functools wrap method to prevent it's identity**"
   ]
  },
  {
   "cell_type": "code",
   "execution_count": 43,
   "id": "3b4c2c8c-5f41-4936-8945-e0dd00de5135",
   "metadata": {},
   "outputs": [],
   "source": [
    "import functools\n",
    "def wrapper(func):\n",
    "    @functools.wraps(func)\n",
    "    def inner(*args, **kwargs):\n",
    "        print(f\"hello {args[0]}\")\n",
    "        func(*args, **kwargs)\n",
    "    return inner"
   ]
  },
  {
   "cell_type": "code",
   "execution_count": 44,
   "id": "930d2187-db55-44e9-a1fa-7daae4227f63",
   "metadata": {},
   "outputs": [],
   "source": [
    "# now call our method \n",
    "@wrapper\n",
    "def say_hello(name):\n",
    "    print(f\"hope you are doing well {name}\")"
   ]
  },
  {
   "cell_type": "code",
   "execution_count": 46,
   "id": "74e46840-322c-402a-98f9-e3e386b048ba",
   "metadata": {},
   "outputs": [
    {
     "name": "stdout",
     "output_type": "stream",
     "text": [
      "<function say_hello at 0x000001D97792FEC0>\n",
      "say_hello\n"
     ]
    }
   ],
   "source": [
    "# original identity\n",
    "print(say_hello)\n",
    "\n",
    "# original name\n",
    "print(say_hello.__name__)"
   ]
  },
  {
   "cell_type": "markdown",
   "id": "d41e464a-8166-4038-ba4a-88cec2dc5940",
   "metadata": {},
   "source": [
    "### Decorator with arguments"
   ]
  },
  {
   "cell_type": "code",
   "execution_count": 112,
   "id": "76643c10-63e8-4507-a03e-a9adcf736011",
   "metadata": {},
   "outputs": [],
   "source": [
    "def repeat(func=None, number_of_times=2):\n",
    "    def decorator_repeat(func):        \n",
    "        @functools.wraps(func)\n",
    "        def inner(*args, **kwargs):\n",
    "            for i in range(number_of_times):\n",
    "                func(*args, **kwargs)\n",
    "        return inner\n",
    "    if func is None:\n",
    "        return decorator_repeat\n",
    "    return decorator_repeat(func)\n",
    "        "
   ]
  },
  {
   "cell_type": "code",
   "execution_count": 63,
   "id": "e017e9e7-5f33-4348-a97b-c05d6255a212",
   "metadata": {},
   "outputs": [],
   "source": [
    "@repeat(number_of_times=5)\n",
    "def print_hello():\n",
    "    print(\"Hello\")"
   ]
  },
  {
   "cell_type": "code",
   "execution_count": 64,
   "id": "ef267373-1595-4a63-b896-1cc035bb38a1",
   "metadata": {},
   "outputs": [
    {
     "name": "stdout",
     "output_type": "stream",
     "text": [
      "Hello\n",
      "Hello\n",
      "Hello\n",
      "Hello\n",
      "Hello\n"
     ]
    }
   ],
   "source": [
    "print_hello()"
   ]
  },
  {
   "cell_type": "markdown",
   "id": "ea4f7309-4b81-41bd-8a1e-13b7f69d17c8",
   "metadata": {},
   "source": [
    "## Creating decorator to calculate run time of function"
   ]
  },
  {
   "cell_type": "code",
   "execution_count": 111,
   "id": "0e62db9a-84cd-4371-84d3-3c470d904790",
   "metadata": {},
   "outputs": [],
   "source": [
    "import functools\n",
    "def timeit(func):\n",
    "    @functools.wraps(func)\n",
    "    def calculate_time(*args, **kwargs):\n",
    "        start_time = time.perf_counter()\n",
    "        result = func(*args, **kwargs)\n",
    "        end_time = time.perf_counter()\n",
    "        total_time = end_time - start_time\n",
    "        print(f\"Total execution time taken by {func.__name__} is {total_time:.4f} seconds\")\n",
    "        return result\n",
    "    return calculate_time\n",
    "    "
   ]
  },
  {
   "cell_type": "code",
   "execution_count": 118,
   "id": "5953a568-4ed8-43ac-8cd0-8dbdbb4f9352",
   "metadata": {},
   "outputs": [],
   "source": [
    "@timeit\n",
    "def waste_of_time():\n",
    "    for i in range(1000000):\n",
    "        i**2\n"
   ]
  },
  {
   "cell_type": "code",
   "execution_count": 119,
   "id": "d1d7da00-a53d-4cc8-ab4e-902a690c086c",
   "metadata": {},
   "outputs": [
    {
     "name": "stdout",
     "output_type": "stream",
     "text": [
      "Total execution time taken by waste_of_time is 0.1052 seconds\n"
     ]
    }
   ],
   "source": [
    "waste_of_time()"
   ]
  },
  {
   "cell_type": "code",
   "execution_count": null,
   "id": "803c189f-1f32-488c-a588-05eabee64250",
   "metadata": {},
   "outputs": [],
   "source": []
  }
 ],
 "metadata": {
  "kernelspec": {
   "display_name": "Python 3 (ipykernel)",
   "language": "python",
   "name": "python3"
  },
  "language_info": {
   "codemirror_mode": {
    "name": "ipython",
    "version": 3
   },
   "file_extension": ".py",
   "mimetype": "text/x-python",
   "name": "python",
   "nbconvert_exporter": "python",
   "pygments_lexer": "ipython3",
   "version": "3.12.1"
  }
 },
 "nbformat": 4,
 "nbformat_minor": 5
}
