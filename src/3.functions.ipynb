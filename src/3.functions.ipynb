{
 "cells": [
  {
   "cell_type": "code",
   "execution_count": null,
   "id": "5161e356-752d-4ef7-b4a3-3e950974471c",
   "metadata": {},
   "outputs": [],
   "source": []
  },
  {
   "cell_type": "markdown",
   "id": "7727b695-3caa-4fe6-882c-62954ab2685b",
   "metadata": {},
   "source": [
    "**There are several important concepts in this list. Here’s a closer look to some of them:**\n",
    "\n",
    "* Recursion is a technique in which functions call themselves, either directly or indirectly, in order to loop. It allows a program to loop over data structures that have unknown or unpredictable lengths.\n",
    "\n",
    "* Pure functions are functions that have no side effects at all. In other words, they’re functions that do not update or modify any global variable, object, or data structure in the program. These functions produce an output that depends only on the input, which is closer to the concept of a mathematical function.\n",
    "\n",
    "* Higher-order functions are functions that operate on other functions by taking functions as arguments, returning functions, or both, as with Python decorators.\n",
    "\n",
    "**Since Python is a multi-paradigm programming language, it provides some tools that support a functional programming style:**\n",
    "\n",
    "* Functions as first-class objects\n",
    "* Recursion capabilities\n",
    "* Anonymous functions with lambda\n",
    "* Iterators and generators\n",
    "* Standard modules like functools and itertools\n",
    "* Tools like map(), filter(), reduce(), sum(), len(), any(), all(), min(), max(), and so on\n",
    "\n",
    "  ### Resources\n",
    "  * https://realpython.com/python-functional-programming/\n",
    "  * https://realpython.com/python-reduce-function/"
   ]
  },
  {
   "cell_type": "code",
   "execution_count": null,
   "id": "b02629ae-84bf-41dc-8f58-4d62a18de8f1",
   "metadata": {},
   "outputs": [],
   "source": [
    "def minus(): # this is called function\n",
    "    pass\n",
    "\n",
    "class Demo:\n",
    "    def add(): # this is called methos\n",
    "        pass"
   ]
  },
  {
   "cell_type": "markdown",
   "id": "5b626211-7d96-4b3a-b730-ef93cbecbb5f",
   "metadata": {},
   "source": [
    "#### Defferent types of parameters\n",
    "* Positional Arguments\n",
    "* Keyword Arguments\n",
    "* Default Argument\n",
    "* variable length argument"
   ]
  },
  {
   "cell_type": "code",
   "execution_count": 2,
   "id": "2dcbf303-5f98-40b4-bd85-93081f2e7056",
   "metadata": {},
   "outputs": [],
   "source": [
    "# positional arguments\n",
    "def calc(a,b):\n",
    "    return a + b"
   ]
  },
  {
   "cell_type": "code",
   "execution_count": 3,
   "id": "618dad73-cc71-4912-9e74-bbc0851ee4b3",
   "metadata": {},
   "outputs": [
    {
     "data": {
      "text/plain": [
       "30"
      ]
     },
     "execution_count": 3,
     "metadata": {},
     "output_type": "execute_result"
    }
   ],
   "source": [
    "calc(10,20)"
   ]
  },
  {
   "cell_type": "code",
   "execution_count": 4,
   "id": "84536659-9163-476f-a75b-da77fac43e7f",
   "metadata": {},
   "outputs": [
    {
     "data": {
      "text/plain": [
       "30"
      ]
     },
     "execution_count": 4,
     "metadata": {},
     "output_type": "execute_result"
    }
   ],
   "source": [
    "# keyword argument\n",
    "calc(a=10,b=20)"
   ]
  },
  {
   "cell_type": "code",
   "execution_count": 7,
   "id": "a0fb0150-b8e7-4b7e-8ebf-7063e1a37978",
   "metadata": {},
   "outputs": [],
   "source": [
    "calc(10, a=20) # not allowed\n",
    "calc(b=20,10) # not allowed\n"
   ]
  },
  {
   "cell_type": "code",
   "execution_count": 8,
   "id": "db8cc202-fdf7-4cc4-a794-e12fa64f9b21",
   "metadata": {},
   "outputs": [],
   "source": [
    "# Default arguments\n",
    "def calc(a,b=20):\n",
    "    return a + b"
   ]
  },
  {
   "cell_type": "code",
   "execution_count": 9,
   "id": "f324869c-8bd5-464c-bf30-842401425845",
   "metadata": {},
   "outputs": [
    {
     "data": {
      "text/plain": [
       "30"
      ]
     },
     "execution_count": 9,
     "metadata": {},
     "output_type": "execute_result"
    }
   ],
   "source": [
    "calc(10)"
   ]
  },
  {
   "cell_type": "markdown",
   "id": "32b271bc-69d9-4779-8d46-5c18d53d5c9f",
   "metadata": {},
   "source": [
    "#### Never use mutable object as default value\n",
    "**Do not use mutable default arguments in Python, unless you have a REALLY good reason to do so.**\n",
    "\n",
    "Why? Because it can lead to all sorts of nasty and horrible bugs, give you headaches and waste everyone's time.\n",
    "\n",
    "Instead, default to None and assign the mutable value inside the function."
   ]
  },
  {
   "cell_type": "code",
   "execution_count": 17,
   "id": "e55eb540-42d5-46ce-87d6-b8dfb80790bb",
   "metadata": {},
   "outputs": [],
   "source": [
    "# Example\n",
    "def append(element, seq=[]):\n",
    "    seq.append(element)\n",
    "    return seq"
   ]
  },
  {
   "cell_type": "code",
   "execution_count": 18,
   "id": "edfe1a46-0c59-444a-94e4-d12b66bd30b3",
   "metadata": {},
   "outputs": [
    {
     "name": "stdout",
     "output_type": "stream",
     "text": [
      "[1]\n",
      "[1, 2]\n"
     ]
    }
   ],
   "source": [
    "print(append(1))\n",
    "print(append(2)) # expecting output [2] but got [1,2]"
   ]
  },
  {
   "cell_type": "code",
   "execution_count": 19,
   "id": "28ec1fa4-b09b-4a91-9ffd-b8bb94b03869",
   "metadata": {},
   "outputs": [],
   "source": [
    "# use this solution\n",
    "def append(element, seq=None):\n",
    "    if seq is None:\n",
    "        seq = []\n",
    "    seq.append(element)\n",
    "    return seq"
   ]
  },
  {
   "cell_type": "code",
   "execution_count": 20,
   "id": "c4489b10-bf29-424f-a521-ba5cc94cbf49",
   "metadata": {},
   "outputs": [
    {
     "name": "stdout",
     "output_type": "stream",
     "text": [
      "[1]\n",
      "[2]\n"
     ]
    }
   ],
   "source": [
    "print(append(1))\n",
    "print(append(2)) # expecting output [2] but got [1,2]"
   ]
  },
  {
   "cell_type": "markdown",
   "id": "bb7003ec-24a0-425c-b89a-81d67103d2d5",
   "metadata": {},
   "source": [
    "## Variable length arguments\n",
    "* `*args` (Non-Keyword Arguments)\n",
    "* `**kwargs` (Keyword Arguments)\n",
    "\n",
    "“We use the “wildcard” or “*” notation like this – `*args` OR `**kwargs` – as our function’s argument when we have doubts about the number of  arguments we should pass in a function.” \n",
    "  "
   ]
  },
  {
   "cell_type": "code",
   "execution_count": 21,
   "id": "7b739015-f38f-47fe-b835-4150ce0c1a53",
   "metadata": {},
   "outputs": [
    {
     "name": "stdout",
     "output_type": "stream",
     "text": [
      "Hello\n",
      "Amol\n",
      "Thite\n"
     ]
    }
   ],
   "source": [
    "# varianle length arguments\n",
    "def display(*args):\n",
    "    for arg in args:\n",
    "        print(arg)\n",
    " \n",
    " \n",
    "display('Hello', 'Amol', 'Thite')"
   ]
  },
  {
   "cell_type": "code",
   "execution_count": 23,
   "id": "192f8217-3ca4-47c1-bef8-935af31d6290",
   "metadata": {},
   "outputs": [
    {
     "name": "stdout",
     "output_type": "stream",
     "text": [
      "First argument : Hello\n",
      "Next argument through *args : Amol\n",
      "Next argument through *args : Thite\n"
     ]
    }
   ],
   "source": [
    "# using one positional argument\n",
    "def display(arg1, *args):\n",
    "    print(\"First argument :\", arg1)\n",
    "    for arg in args:\n",
    "        print(\"Next argument through *args :\", arg)\n",
    " \n",
    " \n",
    "display('Hello', 'Amol', 'Thite')"
   ]
  },
  {
   "cell_type": "code",
   "execution_count": 26,
   "id": "3f46ed34-397b-4d4b-a1ed-347e74e98162",
   "metadata": {},
   "outputs": [
    {
     "name": "stdout",
     "output_type": "stream",
     "text": [
      "first == Amol\n",
      "mid == T\n",
      "last == Thite\n"
     ]
    }
   ],
   "source": [
    "# using named arguments\n",
    "def display(**kwargs):\n",
    "    for key, value in kwargs.items():\n",
    "        print(\"%s == %s\" % (key, value))\n",
    " \n",
    " \n",
    "# Driver code\n",
    "display(first='Amol', mid='T', last='Thite')"
   ]
  },
  {
   "cell_type": "code",
   "execution_count": 28,
   "id": "30bb6dac-628c-4004-bdaf-66634bae8a70",
   "metadata": {},
   "outputs": [
    {
     "name": "stdout",
     "output_type": "stream",
     "text": [
      "Positional argument:  hi\n",
      "first == Amol\n",
      "mid == T\n",
      "last == Thite\n"
     ]
    }
   ],
   "source": [
    "# using one positional argument\n",
    "def display(arg1, **kwargs):\n",
    "    print(\"Positional argument: \", arg1)\n",
    "    for key, value in kwargs.items():\n",
    "        print(\"%s == %s\" % (key, value))\n",
    " \n",
    " \n",
    "# Driver code\n",
    "display(\"hi\", first='Amol', mid='T', last='Thite')"
   ]
  },
  {
   "cell_type": "code",
   "execution_count": 31,
   "id": "3ed910be-18c4-448e-9675-3622495e5769",
   "metadata": {},
   "outputs": [
    {
     "name": "stdout",
     "output_type": "stream",
     "text": [
      "arg1: Amol\n",
      "arg2: T\n",
      "arg3: Thite\n",
      "arg1: Amol\n",
      "arg2: T\n",
      "arg3: Thite\n"
     ]
    }
   ],
   "source": [
    "# Using both *args and **kwargs in Python to call a function\n",
    "\n",
    "def display(arg1, arg2, arg3):\n",
    "    print(\"arg1:\", arg1)\n",
    "    print(\"arg2:\", arg2)\n",
    "    print(\"arg3:\", arg3)\n",
    " \n",
    " \n",
    "# Now we can use *args or **kwargs to\n",
    "# pass arguments to this function :\n",
    "args = (\"Amol\", \"T\", \"Thite\")\n",
    "display(*args)\n",
    " \n",
    "kwargs = {\"arg1\": \"Amol\", \"arg2\": \"T\", \"arg3\": \"Thite\"}\n",
    "display(**kwargs)"
   ]
  },
  {
   "cell_type": "markdown",
   "id": "88dde55b-b0d4-45ea-b0b3-bce9d51c539a",
   "metadata": {},
   "source": [
    "## Recursive function\n",
    "**A function that call itself**"
   ]
  },
  {
   "cell_type": "code",
   "execution_count": 32,
   "id": "5c20f118-3ab2-4903-b249-365193697365",
   "metadata": {},
   "outputs": [],
   "source": [
    "def facto(n):\n",
    "    if n==0:\n",
    "        return 1\n",
    "    else:\n",
    "        return n*facto(n-1)"
   ]
  },
  {
   "cell_type": "code",
   "execution_count": 33,
   "id": "c09d5f26-0528-4eb8-b389-10ddc6a92835",
   "metadata": {},
   "outputs": [
    {
     "data": {
      "text/plain": [
       "3000"
      ]
     },
     "execution_count": 33,
     "metadata": {},
     "output_type": "execute_result"
    }
   ],
   "source": [
    "# to find out recusrsion limit\n",
    "from sys import getrecursionlimit\n",
    "getrecursionlimit()"
   ]
  },
  {
   "cell_type": "markdown",
   "id": "8126d785-aff1-47ab-83e5-c521dc529968",
   "metadata": {},
   "source": [
    "## Anonymous Function\n",
    "An anonymous function in Python is a function without a name. It can be immediately invoked or stored in a variable.\n",
    "\n",
    "Anonymous functions in Python are also known as lambda functions.\n",
    "\n",
    "* A lambda function is created using the lambda keyword.\n",
    "* The keyword is followed by one or many parameters.\n",
    "* Lastly, an expression is provided for the function. This is the part of the code that gets executed/returned."
   ]
  },
  {
   "cell_type": "code",
   "execution_count": 34,
   "id": "3a346aef-3c32-451a-9d6c-cc3f249063a2",
   "metadata": {},
   "outputs": [
    {
     "name": "stdout",
     "output_type": "stream",
     "text": [
      "5\n"
     ]
    }
   ],
   "source": [
    "add_numbers = lambda a,b : a + b \n",
    "  \n",
    "print(add_numbers(2,3)) # 5       "
   ]
  },
  {
   "cell_type": "code",
   "execution_count": 43,
   "id": "4e3ce98c-06cc-4c23-afcb-92f2f8cda0ec",
   "metadata": {},
   "outputs": [
    {
     "name": "stdout",
     "output_type": "stream",
     "text": [
      "[3, 16, 9]\n"
     ]
    }
   ],
   "source": [
    "List = [[2,3,4],[1, 4, 16, 64],[3, 6, 9, 12]]\n",
    " \n",
    "sortList = lambda x: (sorted(i) for i in x)\n",
    "secondLargest = lambda x, f : [y[len(y)-2] for y in f(x)]\n",
    "res = secondLargest(List, sortList)\n",
    " \n",
    "print(res)"
   ]
  },
  {
   "cell_type": "markdown",
   "id": "37f332ae-d929-45d2-835a-b030478a6630",
   "metadata": {},
   "source": [
    "### Map function\n",
    "\n",
    "**map(function, sequence)**\n",
    "\n",
    "* map can take multiple iterables"
   ]
  },
  {
   "cell_type": "code",
   "execution_count": 38,
   "id": "2131ed86-a011-4cc5-89a2-7be893049d8d",
   "metadata": {},
   "outputs": [
    {
     "name": "stdout",
     "output_type": "stream",
     "text": [
      "[2, 6, 4, 10, 16, 14, 18]\n"
     ]
    }
   ],
   "source": [
    "numbers = [1, 3, 2, 5, 8, 7, 9]\n",
    "\n",
    "double_result = map(lambda x : x+x, numbers)\n",
    "\n",
    "print(list(double_result))\n"
   ]
  },
  {
   "cell_type": "code",
   "execution_count": 54,
   "id": "13ce24a9-9860-4e42-befd-683879da40f1",
   "metadata": {},
   "outputs": [
    {
     "name": "stdout",
     "output_type": "stream",
     "text": [
      "[10, 40, 90, 160]\n"
     ]
    }
   ],
   "source": [
    "l1 = [1,2,3,4,5]\n",
    "l2 = [10,20,30,40]\n",
    "\n",
    "print(list(map(lambda x,y: x*y, l1,l2)))"
   ]
  },
  {
   "cell_type": "markdown",
   "id": "ed6b1e17-9ad1-47e7-8b5e-19b7f104c67c",
   "metadata": {},
   "source": [
    "### Filter function\n",
    "\n",
    "**filter(function, sequence)**"
   ]
  },
  {
   "cell_type": "code",
   "execution_count": 45,
   "id": "08c5c732-714f-484e-9e69-c07179d40596",
   "metadata": {},
   "outputs": [
    {
     "name": "stdout",
     "output_type": "stream",
     "text": [
      "[2, 8]\n"
     ]
    }
   ],
   "source": [
    "even_number = filter(lambda x : x%2==0, numbers)\n",
    "\n",
    "print(list(even_number))"
   ]
  },
  {
   "cell_type": "markdown",
   "id": "003d1b82-eea2-4b66-a982-6192d5a5609f",
   "metadata": {},
   "source": [
    "### Reduce function\n",
    "\n",
    "**reduce(function, sequence, initializer)**\n",
    "\n",
    "Initializer is a optional parameter. If you supply a value to initializer, then reduce() will feed it to the first call of function as its first argument."
   ]
  },
  {
   "cell_type": "code",
   "execution_count": 51,
   "id": "d72fbb41-04df-42b1-bd05-1710995a4a82",
   "metadata": {},
   "outputs": [
    {
     "name": "stdout",
     "output_type": "stream",
     "text": [
      "9\n"
     ]
    }
   ],
   "source": [
    "from functools import reduce\n",
    "numbers = [1, 3, 2, 5, 8, 7, 9]\n",
    "max_number = reduce(lambda a,b : a if a > b else b, numbers)\n",
    "\n",
    "print(max_number)"
   ]
  },
  {
   "cell_type": "code",
   "execution_count": 52,
   "id": "5ed3ae75-eb9f-45a8-b93a-ea269cfc8e1c",
   "metadata": {},
   "outputs": [
    {
     "data": {
      "text/plain": [
       "100"
      ]
     },
     "execution_count": 52,
     "metadata": {},
     "output_type": "execute_result"
    }
   ],
   "source": [
    "# using initializer\n",
    "numbers = [0, 1, 2, 3, 4]\n",
    "\n",
    "reduce(lambda a,b : a if a > b else b, numbers, 100)"
   ]
  },
  {
   "cell_type": "markdown",
   "id": "653c2e05-f375-4515-9e91-df0ff50ce402",
   "metadata": {},
   "source": [
    "## nested functions\n",
    "\n",
    "Python supports functions within functions "
   ]
  },
  {
   "cell_type": "code",
   "execution_count": 1,
   "id": "8de3e235-d365-469e-80ab-0beeda5ce273",
   "metadata": {},
   "outputs": [],
   "source": [
    "def func(a,b,c):\n",
    "    def inner(a, b):\n",
    "        return a + b\n",
    "    return inner(a, b) + c"
   ]
  },
  {
   "cell_type": "code",
   "execution_count": 2,
   "id": "7cd4840b-2c0c-4fc8-a332-aac37fd28825",
   "metadata": {},
   "outputs": [
    {
     "data": {
      "text/plain": [
       "60"
      ]
     },
     "execution_count": 2,
     "metadata": {},
     "output_type": "execute_result"
    }
   ],
   "source": [
    "func(10,20,30)"
   ]
  },
  {
   "cell_type": "code",
   "execution_count": 3,
   "id": "9711ec76-b9a6-4e84-b412-0599c56d8afc",
   "metadata": {},
   "outputs": [],
   "source": [
    "def func():\n",
    "    def inner():\n",
    "        print(\"inner function called\")\n",
    "    print(\"main function called\")\n",
    "    return inner"
   ]
  },
  {
   "cell_type": "code",
   "execution_count": 4,
   "id": "45e64318-6b2c-4e85-a258-2da9069abc24",
   "metadata": {},
   "outputs": [
    {
     "name": "stdout",
     "output_type": "stream",
     "text": [
      "main function called\n"
     ]
    }
   ],
   "source": [
    "f=func()"
   ]
  },
  {
   "cell_type": "code",
   "execution_count": 7,
   "id": "12240d03-0c3b-4958-b897-d2100a1238a5",
   "metadata": {},
   "outputs": [
    {
     "name": "stdout",
     "output_type": "stream",
     "text": [
      "inner function called\n",
      "inner function called\n"
     ]
    }
   ],
   "source": [
    "f()\n",
    "f()"
   ]
  },
  {
   "cell_type": "code",
   "execution_count": null,
   "id": "b4d72271-a458-4a91-97a4-b2c07bb24edf",
   "metadata": {},
   "outputs": [],
   "source": []
  }
 ],
 "metadata": {
  "kernelspec": {
   "display_name": "Python 3 (ipykernel)",
   "language": "python",
   "name": "python3"
  },
  "language_info": {
   "codemirror_mode": {
    "name": "ipython",
    "version": 3
   },
   "file_extension": ".py",
   "mimetype": "text/x-python",
   "name": "python",
   "nbconvert_exporter": "python",
   "pygments_lexer": "ipython3",
   "version": "3.12.1"
  }
 },
 "nbformat": 4,
 "nbformat_minor": 5
}
